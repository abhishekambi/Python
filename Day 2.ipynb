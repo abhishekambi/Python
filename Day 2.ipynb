{
 "cells": [
  {
   "cell_type": "markdown",
   "id": "ba74b65d",
   "metadata": {},
   "source": [
    "#  Python Operators\n",
    "Operators are used to perform operations on variables and values."
   ]
  },
  {
   "cell_type": "markdown",
   "id": "4800f86e",
   "metadata": {},
   "source": [
    "#  Python divides the operators in the following\n",
    "* Arithmetic operators\n",
    "* Assignment operators\n",
    "* Comparison operators\n",
    "* Logical operators\n",
    "* Indentity operators\n",
    "* Membership operators\n",
    "* Bitwise operators"
   ]
  },
  {
   "cell_type": "markdown",
   "id": "45c24466",
   "metadata": {},
   "source": [
    "#  Python Arithmetic Operators\n",
    "operators are used to perform operation on variables and values."
   ]
  },
  {
   "cell_type": "code",
   "execution_count": 1,
   "id": "0bd1a3e6",
   "metadata": {},
   "outputs": [
    {
     "name": "stdout",
     "output_type": "stream",
     "text": [
      "8\n",
      "0\n",
      "16\n",
      "1.0\n"
     ]
    }
   ],
   "source": [
    "x = 4\n",
    "y = 4\n",
    "\n",
    "print (x+y)\n",
    "print (x-y)\n",
    "print (x*y)\n",
    "print (x/y)"
   ]
  },
  {
   "cell_type": "markdown",
   "id": "b071fde2",
   "metadata": {},
   "source": [
    "Modulus"
   ]
  },
  {
   "cell_type": "code",
   "execution_count": 7,
   "id": "a9f67566",
   "metadata": {},
   "outputs": [
    {
     "name": "stdout",
     "output_type": "stream",
     "text": [
      "1\n"
     ]
    }
   ],
   "source": [
    "x = 5\n",
    "y = 2\n",
    "\n",
    "print (x % y)   # find remainder"
   ]
  },
  {
   "cell_type": "markdown",
   "id": "7173fbe4",
   "metadata": {},
   "source": [
    "Exponentiation"
   ]
  },
  {
   "cell_type": "code",
   "execution_count": 3,
   "id": "8852ef24",
   "metadata": {},
   "outputs": [
    {
     "name": "stdout",
     "output_type": "stream",
     "text": [
      "8\n"
     ]
    }
   ],
   "source": [
    "x = 2\n",
    "y = 3\n",
    "\n",
    "print (x ** y)     # same as 2*2*2"
   ]
  },
  {
   "cell_type": "markdown",
   "id": "e1b823a7",
   "metadata": {},
   "source": [
    "Floor Division"
   ]
  },
  {
   "cell_type": "code",
   "execution_count": 4,
   "id": "4d887006",
   "metadata": {},
   "outputs": [
    {
     "name": "stdout",
     "output_type": "stream",
     "text": [
      "1\n"
     ]
    }
   ],
   "source": [
    "x = 5\n",
    "y = 2\n",
    "print (x % y)\n",
    "#the floor division // rounds the result down\n",
    "#to the nearest whole number"
   ]
  },
  {
   "cell_type": "markdown",
   "id": "d051d824",
   "metadata": {},
   "source": [
    "# Python Assignment Operators\n",
    "Assingment operators are used to assign values to variables:"
   ]
  },
  {
   "cell_type": "code",
   "execution_count": 5,
   "id": "2dc79679",
   "metadata": {},
   "outputs": [
    {
     "name": "stdout",
     "output_type": "stream",
     "text": [
      "20\n"
     ]
    }
   ],
   "source": [
    "x = 17     ##assign\n",
    "y = x + 3   # use assign to create new assign\n",
    "print (y)\n"
   ]
  },
  {
   "cell_type": "markdown",
   "id": "b2fb2e54",
   "metadata": {},
   "source": [
    "# Python Comparison Operators\n",
    "Comparison operators are used to compare two values:"
   ]
  },
  {
   "cell_type": "code",
   "execution_count": 6,
   "id": "faede661",
   "metadata": {},
   "outputs": [
    {
     "name": "stdout",
     "output_type": "stream",
     "text": [
      "True\n",
      "False\n",
      "False\n",
      "False\n",
      "True\n",
      "True\n"
     ]
    }
   ],
   "source": [
    "x = 4     # = assign\n",
    "y = 4\n",
    "\n",
    "print (x==y)     # equal\n",
    "print (x!=y)     # Not Equal\n",
    "print (x>y)    # Greater than\n",
    "print (x<y)     # Less than\n",
    "print (x>=y)    # Greater than or equal to\n",
    "print (x<=y)    # Less than or equal to"
   ]
  },
  {
   "cell_type": "markdown",
   "id": "b0b06a73",
   "metadata": {},
   "source": [
    "# Python Logical Operators\n",
    "Logical operators are used to combine conditional statements:"
   ]
  },
  {
   "cell_type": "code",
   "execution_count": 8,
   "id": "df8cbb41",
   "metadata": {},
   "outputs": [
    {
     "name": "stdout",
     "output_type": "stream",
     "text": [
      "True\n",
      "True\n",
      "True\n"
     ]
    }
   ],
   "source": [
    "x = 11     # 11\n",
    "\n",
    "print (x>3 and x<15)  # (Cond1 and cond2)\n",
    "\n",
    "# returns True because 5 is greater than 3 And 5 is\n",
    "# less than 10\n",
    "\n",
    "print (x>3 or x<4)   # (cond1 = True and cond2 = False)\n",
    "\n",
    "#returns True because one of the conditions are \n",
    "# true (5 is greater than 3, but 5 is not less than 4)\n",
    "\n",
    "print (not(x>3 and x<10))\n",
    "\n",
    "# returns false because not is used to reverse the result."
   ]
  },
  {
   "cell_type": "markdown",
   "id": "df93d049",
   "metadata": {},
   "source": [
    "# Python Membership Operators\n",
    "Membership operators are used to test if a sequence is presented in an object:"
   ]
  },
  {
   "cell_type": "code",
   "execution_count": 9,
   "id": "1d7b7045",
   "metadata": {},
   "outputs": [
    {
     "name": "stdout",
     "output_type": "stream",
     "text": [
      "True\n"
     ]
    }
   ],
   "source": [
    "x = [\"Abhishek\", \"Irfan\", \"Mahesh\"]\n",
    "\n",
    "print(\"Abhishek\" in x)\n"
   ]
  },
  {
   "cell_type": "code",
   "execution_count": 10,
   "id": "0ec4fd33",
   "metadata": {},
   "outputs": [
    {
     "name": "stdout",
     "output_type": "stream",
     "text": [
      "True\n"
     ]
    }
   ],
   "source": [
    "x = [\"Apple\", \"Banana\"]\n",
    "\n",
    "print (\"pineapple\" not in x)\n",
    "\n",
    "# returns true because a sequence with the \n",
    "# Value \"Pineapple\" is not in the list"
   ]
  },
  {
   "cell_type": "code",
   "execution_count": 11,
   "id": "069c59c7",
   "metadata": {},
   "outputs": [
    {
     "name": "stdout",
     "output_type": "stream",
     "text": [
      "True\n",
      "False\n",
      "True\n"
     ]
    }
   ],
   "source": [
    "x = [\"Apple\", \"Banana\"]\n",
    "y = [\"Apple\", \"Banana\"]\n",
    "z = x\n",
    "\n",
    "print (x is z)   # is work for location wise\n",
    "\n",
    "print (x is y)\n",
    "\n",
    "print (x == y)   # work for apple and banana"
   ]
  },
  {
   "cell_type": "markdown",
   "id": "46bd2717",
   "metadata": {},
   "source": [
    "id() is the actual memory address of the variable"
   ]
  },
  {
   "cell_type": "code",
   "execution_count": 12,
   "id": "c3aed9c2",
   "metadata": {},
   "outputs": [
    {
     "name": "stdout",
     "output_type": "stream",
     "text": [
      "2472473858112\n",
      "2472473858112\n",
      "2472473868160\n"
     ]
    }
   ],
   "source": [
    "print (id(x))\n",
    "print (id(z))\n",
    "print (id(y))"
   ]
  }
 ],
 "metadata": {
  "kernelspec": {
   "display_name": "Python 3 (ipykernel)",
   "language": "python",
   "name": "python3"
  },
  "language_info": {
   "codemirror_mode": {
    "name": "ipython",
    "version": 3
   },
   "file_extension": ".py",
   "mimetype": "text/x-python",
   "name": "python",
   "nbconvert_exporter": "python",
   "pygments_lexer": "ipython3",
   "version": "3.9.12"
  }
 },
 "nbformat": 4,
 "nbformat_minor": 5
}
