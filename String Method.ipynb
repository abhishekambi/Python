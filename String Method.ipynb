{
 "cells": [
  {
   "cell_type": "markdown",
   "id": "cc7fcda5",
   "metadata": {},
   "source": [
    "# Python String Methods\n",
    "* Python has a set of built-in-methods that you can use on strings.\n",
    "Note : all string methods returns new values., They do not change the original string"
   ]
  },
  {
   "cell_type": "markdown",
   "id": "1dfe5b65",
   "metadata": {},
   "source": [
    "# Python String Capitalize() Method\n",
    "Upper case the first letter in this sentence."
   ]
  },
  {
   "cell_type": "code",
   "execution_count": 1,
   "id": "b161ddb7",
   "metadata": {},
   "outputs": [
    {
     "name": "stdout",
     "output_type": "stream",
     "text": [
      "Hello, and welcome to my world.\n"
     ]
    }
   ],
   "source": [
    "txt = \"Hello, and welcome to my world.\"\n",
    "\n",
    "x = txt.capitalize()\n",
    "\n",
    "print (x)"
   ]
  },
  {
   "cell_type": "code",
   "execution_count": 2,
   "id": "44fbf2db",
   "metadata": {},
   "outputs": [
    {
     "name": "stdout",
     "output_type": "stream",
     "text": [
      "26 is my age.\n"
     ]
    }
   ],
   "source": [
    "txt = \"26 is my age.\"\n",
    "\n",
    "x = txt. capitalize()\n",
    "\n",
    "print (x)"
   ]
  },
  {
   "cell_type": "code",
   "execution_count": 3,
   "id": "9fda5086",
   "metadata": {},
   "outputs": [
    {
     "name": "stdout",
     "output_type": "stream",
     "text": [
      "hello, and welcome to my world.\n"
     ]
    }
   ],
   "source": [
    "txt = \"Hello, and Welcome to My World.\"\n",
    "\n",
    "x = txt.casefold()   # converted to lowe case\n",
    "\n",
    "print(x)"
   ]
  },
  {
   "cell_type": "code",
   "execution_count": 4,
   "id": "2577746e",
   "metadata": {},
   "outputs": [
    {
     "name": "stdout",
     "output_type": "stream",
     "text": [
      "                                     Banana                                     \n"
     ]
    }
   ],
   "source": [
    "txt = \"Banana\"\n",
    "\n",
    "x = txt.center(80)\n",
    "\n",
    "print(x)"
   ]
  },
  {
   "cell_type": "markdown",
   "id": "64de7b27",
   "metadata": {},
   "source": [
    "### Using the letter \"O\" as the padding character."
   ]
  },
  {
   "cell_type": "code",
   "execution_count": 5,
   "id": "a211a314",
   "metadata": {},
   "outputs": [
    {
     "name": "stdout",
     "output_type": "stream",
     "text": [
      "ooooooobananaooooooo\n"
     ]
    }
   ],
   "source": [
    "txt = \"banana\"\n",
    "\n",
    "x = txt.center(20,\"o\")\n",
    "\n",
    "print(x)"
   ]
  },
  {
   "cell_type": "markdown",
   "id": "0f9cc935",
   "metadata": {},
   "source": [
    "# Python String Count() Method\n",
    "Return the number of times the value \"Apple\" appears in the string."
   ]
  },
  {
   "cell_type": "code",
   "execution_count": 6,
   "id": "152425b5",
   "metadata": {},
   "outputs": [
    {
     "name": "stdout",
     "output_type": "stream",
     "text": [
      "ooooooobananaooooooo\n"
     ]
    }
   ],
   "source": [
    "txt = 'banana'\n",
    "\n",
    "x = txt.center(20, 'o')\n",
    "\n",
    "print(x)"
   ]
  },
  {
   "cell_type": "code",
   "execution_count": 7,
   "id": "c565022e",
   "metadata": {},
   "outputs": [
    {
     "name": "stdout",
     "output_type": "stream",
     "text": [
      "2\n"
     ]
    }
   ],
   "source": [
    "txt = \"I love apples, apples are my favourite fruit.\"\n",
    "\n",
    "x = txt.count('apple')\n",
    "\n",
    "print(x)"
   ]
  },
  {
   "cell_type": "code",
   "execution_count": 8,
   "id": "ecce4686",
   "metadata": {},
   "outputs": [
    {
     "name": "stdout",
     "output_type": "stream",
     "text": [
      "b'My name is Stale'\n"
     ]
    }
   ],
   "source": [
    "txt = \"My name is Stale\"\n",
    "\n",
    "x = txt.encode()\n",
    "\n",
    "print(x)"
   ]
  },
  {
   "cell_type": "code",
   "execution_count": 9,
   "id": "11df0c80",
   "metadata": {},
   "outputs": [
    {
     "name": "stdout",
     "output_type": "stream",
     "text": [
      "b'My name is Stale'\n"
     ]
    }
   ],
   "source": [
    "txt = \"My name is Stale\"\n",
    "\n",
    "print(txt.encode(encoding=\"ascii\", errors='backslashreplace'))"
   ]
  },
  {
   "cell_type": "markdown",
   "id": "6efdb65d",
   "metadata": {},
   "source": [
    "# Python String ends with() Method\n",
    "The endswith() method returns true if the string ends with the specified value, otherwise false.\n",
    "check if position 5 to 11 ends with the phrase \"My World.\""
   ]
  },
  {
   "cell_type": "code",
   "execution_count": 10,
   "id": "63721852",
   "metadata": {},
   "outputs": [
    {
     "name": "stdout",
     "output_type": "stream",
     "text": [
      "True\n"
     ]
    }
   ],
   "source": [
    "txt = \"Hello, welcome to my world,\"\n",
    "\n",
    "x = txt.endswith(\",\")\n",
    "\n",
    "print(x)"
   ]
  },
  {
   "cell_type": "code",
   "execution_count": 11,
   "id": "c4a295f5",
   "metadata": {},
   "outputs": [
    {
     "name": "stdout",
     "output_type": "stream",
     "text": [
      "False\n"
     ]
    }
   ],
   "source": [
    "txt = \"Hello, welcome to my world.\"\n",
    "\n",
    "x = txt.endswith(\"My World.\", 5, 11)\n",
    "\n",
    "print(x)"
   ]
  },
  {
   "cell_type": "markdown",
   "id": "929f50eb",
   "metadata": {},
   "source": [
    "# Python  String find() Method"
   ]
  },
  {
   "cell_type": "code",
   "execution_count": 12,
   "id": "4b5db93f",
   "metadata": {},
   "outputs": [
    {
     "name": "stdout",
     "output_type": "stream",
     "text": [
      "15\n"
     ]
    }
   ],
   "source": [
    "txt = \"Hello, welcome to my world.\"\n",
    "\n",
    "x = txt.find('to')\n",
    "\n",
    "print(x)"
   ]
  },
  {
   "cell_type": "markdown",
   "id": "d78605dc",
   "metadata": {},
   "source": [
    " Where in the text is the first occurence of the letter \"e\" when you only search between position 5  and 10?:"
   ]
  },
  {
   "cell_type": "code",
   "execution_count": 13,
   "id": "4a261d7e",
   "metadata": {},
   "outputs": [
    {
     "name": "stdout",
     "output_type": "stream",
     "text": [
      "4\n"
     ]
    }
   ],
   "source": [
    "txt = \"Hello, Welcome to My World.\"\n",
    "\n",
    "x = txt.find(\"o\", 0, 5)\n",
    "\n",
    "print(x)"
   ]
  },
  {
   "cell_type": "code",
   "execution_count": 14,
   "id": "ac9ac4f9",
   "metadata": {},
   "outputs": [
    {
     "name": "stdout",
     "output_type": "stream",
     "text": [
      "-1\n"
     ]
    }
   ],
   "source": [
    "txt = \"Hello, welcome to my world.\"\n",
    "\n",
    "print(txt.find(\"q\"))\n",
    "#print(txt.index(\"q\"))"
   ]
  },
  {
   "cell_type": "markdown",
   "id": "847c6820",
   "metadata": {},
   "source": [
    "# Python String isalnum() Method\n",
    "The isalnum() method returns True if all the characters are alphanumberic, meaning alphabet letter(a-z) and . \n",
    "Example of characters that are not alphanumberic:(space)!#%&? etc\n",
    "Check if all the characters in the text are alphanumeric:"
   ]
  },
  {
   "cell_type": "code",
   "execution_count": 15,
   "id": "a4d51b74",
   "metadata": {},
   "outputs": [
    {
     "name": "stdout",
     "output_type": "stream",
     "text": [
      "True\n"
     ]
    }
   ],
   "source": [
    "txt = \"Company12\"\n",
    "\n",
    "x = txt.isalnum()\n",
    "\n",
    "print(x)"
   ]
  },
  {
   "cell_type": "code",
   "execution_count": 16,
   "id": "5896a448",
   "metadata": {},
   "outputs": [
    {
     "name": "stdout",
     "output_type": "stream",
     "text": [
      "False\n"
     ]
    }
   ],
   "source": [
    "txt = \"Company@12\"\n",
    "\n",
    "x = txt.isalnum()\n",
    "\n",
    "print(x)"
   ]
  },
  {
   "cell_type": "markdown",
   "id": "fba40329",
   "metadata": {},
   "source": [
    "#  Python String isalpha() Method\n",
    "The isalpha() method returns True if all the characters are alphabets letters(a-z)."
   ]
  },
  {
   "cell_type": "code",
   "execution_count": 17,
   "id": "f1a7f5c1",
   "metadata": {},
   "outputs": [
    {
     "name": "stdout",
     "output_type": "stream",
     "text": [
      "True\n"
     ]
    }
   ],
   "source": [
    "txt = \"CompanyX\"\n",
    "\n",
    "x = txt.isalpha()\n",
    "\n",
    "print(x)"
   ]
  },
  {
   "cell_type": "markdown",
   "id": "b2bd14c7",
   "metadata": {},
   "source": [
    "#  Python String isdigit() Method\n",
    "The isdigit() method returns True if all the characters are digits, otherwise false.\n",
    "Exponents like ^2, are also considered to be a digit."
   ]
  },
  {
   "cell_type": "code",
   "execution_count": 18,
   "id": "a827d97e",
   "metadata": {},
   "outputs": [
    {
     "name": "stdout",
     "output_type": "stream",
     "text": [
      "True\n"
     ]
    }
   ],
   "source": [
    "txt = \"50800\"\n",
    "\n",
    "x = txt.isdigit()\n",
    "\n",
    "print(x)"
   ]
  },
  {
   "cell_type": "markdown",
   "id": "62e452e1",
   "metadata": {},
   "source": [
    "# Python String istitle() Method\n",
    "The istitle() method returns True if all words in a text start with a upper case letter, AND the rest of the word are lower case.\n",
    "Symbols and numbers are ignored."
   ]
  },
  {
   "cell_type": "code",
   "execution_count": 19,
   "id": "ad7cd451",
   "metadata": {},
   "outputs": [
    {
     "name": "stdout",
     "output_type": "stream",
     "text": [
      "False\n"
     ]
    }
   ],
   "source": [
    "txt = \"Hello, And welcome to My world!\"\n",
    "\n",
    "x = txt.istitle()\n",
    "\n",
    "print(x)"
   ]
  },
  {
   "cell_type": "code",
   "execution_count": 20,
   "id": "9b5b417f",
   "metadata": {},
   "outputs": [
    {
     "name": "stdout",
     "output_type": "stream",
     "text": [
      "True\n",
      "True\n",
      "True\n"
     ]
    }
   ],
   "source": [
    "b = \"Hello\"\n",
    "c = \"22 Names\"\n",
    "d = \"This Is %'!?\"\n",
    "\n",
    "print(b.istitle())\n",
    "print(c.istitle())\n",
    "print(d.istitle())"
   ]
  },
  {
   "cell_type": "markdown",
   "id": "4038775f",
   "metadata": {},
   "source": [
    "# Python String islower() Method\n",
    "The islower() method returns True if all the characters are in lower case, otherwise false.\n",
    "Numbers, symbols and spaces are not checked, only alphabet characters."
   ]
  },
  {
   "cell_type": "code",
   "execution_count": 21,
   "id": "38d9e7fd",
   "metadata": {},
   "outputs": [
    {
     "name": "stdout",
     "output_type": "stream",
     "text": [
      "True\n"
     ]
    }
   ],
   "source": [
    "txt = \"hello, world!\"\n",
    "\n",
    "x = txt.islower()\n",
    "\n",
    "print(x)"
   ]
  },
  {
   "cell_type": "code",
   "execution_count": 22,
   "id": "4792ae07",
   "metadata": {},
   "outputs": [
    {
     "name": "stdout",
     "output_type": "stream",
     "text": [
      "False\n",
      "True\n",
      "False\n"
     ]
    }
   ],
   "source": [
    "a = \"Hello, world!\"\n",
    "b = \"hello 123\"\n",
    "c = \"mynameisAbhi\"\n",
    "\n",
    "print(a.islower())\n",
    "print(b.islower())\n",
    "print(c.islower())"
   ]
  },
  {
   "cell_type": "markdown",
   "id": "9044828a",
   "metadata": {},
   "source": [
    "#  Python String isupper() Method\n",
    "The isupper() method returns True if all the characters are in upper case, otherwise false.\n",
    "Numbers, symbols and spaces are not checked, only alphabet characters."
   ]
  },
  {
   "cell_type": "code",
   "execution_count": 23,
   "id": "17832e0b",
   "metadata": {},
   "outputs": [
    {
     "name": "stdout",
     "output_type": "stream",
     "text": [
      "True\n"
     ]
    }
   ],
   "source": [
    "txt = 'THIS IS NOW!'\n",
    "\n",
    "x = txt.isupper()\n",
    "\n",
    "print(x)"
   ]
  },
  {
   "cell_type": "code",
   "execution_count": 24,
   "id": "4828bf5c",
   "metadata": {},
   "outputs": [
    {
     "name": "stdout",
     "output_type": "stream",
     "text": [
      "False\n",
      "False\n",
      "True\n"
     ]
    }
   ],
   "source": [
    "a = \"Hello, World!\"\n",
    "b = \"hello 123\"\n",
    "c = \"MY NAME IS PETER\"\n",
    "\n",
    "print(a.isupper())\n",
    "print(b.isupper())\n",
    "print(c.isupper())"
   ]
  },
  {
   "cell_type": "markdown",
   "id": "d619d004",
   "metadata": {},
   "source": [
    "# Python String lower() Method\n",
    "The lower() method returns a string where all characters are lower case.\n",
    "Symbols and numbers are ignored."
   ]
  },
  {
   "cell_type": "code",
   "execution_count": 25,
   "id": "e7e103b7",
   "metadata": {},
   "outputs": [
    {
     "name": "stdout",
     "output_type": "stream",
     "text": [
      "hello my friends.\n"
     ]
    }
   ],
   "source": [
    "txt = \"Hello my FRIENDS.\"\n",
    "\n",
    "x = txt.lower()\n",
    "\n",
    "print(x)"
   ]
  },
  {
   "cell_type": "markdown",
   "id": "d92537e6",
   "metadata": {},
   "source": [
    "# Python String Upper() Method\n",
    "The upper() method returns a string where all characters are in upper case.\n",
    "Symbols and Numbers are ignored."
   ]
  },
  {
   "cell_type": "code",
   "execution_count": 26,
   "id": "44abf48d",
   "metadata": {},
   "outputs": [
    {
     "name": "stdout",
     "output_type": "stream",
     "text": [
      "HELLO MY FRIENDS.\n"
     ]
    }
   ],
   "source": [
    "txt = \"hello my friends.\"\n",
    "\n",
    "x = txt.upper()\n",
    "\n",
    "print(x)"
   ]
  },
  {
   "cell_type": "markdown",
   "id": "dfae8c6c",
   "metadata": {},
   "source": [
    "# Python String partition() Method\n",
    "The partition() method searches for a specified string, and splits the string into a tuple containing three elements.\n",
    "\n",
    "The first element contains the part before the specified string.\n",
    "\n",
    "The second element contains the specified string.\n",
    "\n",
    "The third element contains the part after the string.\n"
   ]
  },
  {
   "cell_type": "code",
   "execution_count": 27,
   "id": "2a2b6c65",
   "metadata": {},
   "outputs": [
    {
     "name": "stdout",
     "output_type": "stream",
     "text": [
      "('I could ', 'eat', ' bananas all day')\n"
     ]
    }
   ],
   "source": [
    "txt = \"I could eat bananas all day\"\n",
    "\n",
    "x = txt.partition('eat')\n",
    "\n",
    "print(x)"
   ]
  },
  {
   "cell_type": "markdown",
   "id": "c73fae61",
   "metadata": {},
   "source": [
    "# Python String replace() Method"
   ]
  },
  {
   "cell_type": "code",
   "execution_count": 29,
   "id": "5e5b155c",
   "metadata": {},
   "outputs": [
    {
     "name": "stdout",
     "output_type": "stream",
     "text": [
      "I like apples\n"
     ]
    }
   ],
   "source": [
    "txt = 'I like bananas'\n",
    "\n",
    "x = txt.replace('bananas', 'apples')\n",
    "\n",
    "print(x)"
   ]
  },
  {
   "cell_type": "markdown",
   "id": "7c123b40",
   "metadata": {},
   "source": [
    "### string.replace(oldvalue, newvalue, count)"
   ]
  },
  {
   "cell_type": "code",
   "execution_count": 30,
   "id": "27d4e0fb",
   "metadata": {},
   "outputs": [
    {
     "name": "stdout",
     "output_type": "stream",
     "text": [
      "Abhi Abhi was a race hourse, two two was one too.\n"
     ]
    }
   ],
   "source": [
    "txt = \"one one was a race hourse, two two was one too.\"\n",
    "\n",
    "x = txt.replace(\"one\", \"Abhi\", 2)\n",
    "\n",
    "print(x)"
   ]
  },
  {
   "cell_type": "markdown",
   "id": "c4a88bc9",
   "metadata": {},
   "source": [
    "# Python String split() Method (IMP)"
   ]
  },
  {
   "cell_type": "code",
   "execution_count": 31,
   "id": "68fa3c98",
   "metadata": {},
   "outputs": [
    {
     "name": "stdout",
     "output_type": "stream",
     "text": [
      "['welcome', 'to', 'the', 'jungle']\n"
     ]
    }
   ],
   "source": [
    "txt = \"welcome to the jungle\"\n",
    "\n",
    "x = txt.split()          \n",
    "\n",
    "print(x)"
   ]
  },
  {
   "cell_type": "code",
   "execution_count": 32,
   "id": "1a9dc5cc",
   "metadata": {},
   "outputs": [
    {
     "name": "stdout",
     "output_type": "stream",
     "text": [
      "['hello', ' my name is Peter', ' I am 26 years old']\n"
     ]
    }
   ],
   "source": [
    "txt = \"hello, my name is Peter, I am 26 years old\"\n",
    "\n",
    "x = txt.split(\",\")\n",
    "\n",
    "print(x)"
   ]
  }
 ],
 "metadata": {
  "kernelspec": {
   "display_name": "Python 3 (ipykernel)",
   "language": "python",
   "name": "python3"
  },
  "language_info": {
   "codemirror_mode": {
    "name": "ipython",
    "version": 3
   },
   "file_extension": ".py",
   "mimetype": "text/x-python",
   "name": "python",
   "nbconvert_exporter": "python",
   "pygments_lexer": "ipython3",
   "version": "3.9.12"
  }
 },
 "nbformat": 4,
 "nbformat_minor": 5
}
