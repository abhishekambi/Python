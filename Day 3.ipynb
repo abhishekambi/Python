{
 "cells": [
  {
   "cell_type": "markdown",
   "id": "3a7ee5c9",
   "metadata": {},
   "source": [
    "#  Python Collections (Arrays)\n",
    "There are four collection data types in the Python programming language:\n",
    "* List is a collection which is ordered and changeable. Allows duplicate members.\n",
    "* Tuple is a collection which is ordered and unchangeable. Allows duplicate members.\n",
    "* Set is a collection which is unordered and unindexed. No duplicate members.\n",
    "* Dictionary is a collection which is unorderd, changeable and indexed. No duplicate members."
   ]
  },
  {
   "cell_type": "markdown",
   "id": "beaa05b6",
   "metadata": {},
   "source": [
    "# List\n",
    "A list is a collection which is ordered and changeable. In Python lists are written with square brackets."
   ]
  },
  {
   "cell_type": "code",
   "execution_count": 1,
   "id": "b0d532dd",
   "metadata": {
    "scrolled": true
   },
   "outputs": [
    {
     "name": "stdout",
     "output_type": "stream",
     "text": [
      "['apple', 'Banana', 'Cherry']\n"
     ]
    }
   ],
   "source": [
    "thislist = [\"apple\", \"Banana\", \"Cherry\"]\n",
    "print (thislist)"
   ]
  },
  {
   "cell_type": "markdown",
   "id": "734c2ba2",
   "metadata": {},
   "source": [
    "#  Access Items\n",
    "You access the list items by referring to the index numbers."
   ]
  },
  {
   "cell_type": "code",
   "execution_count": 2,
   "id": "e8692b5c",
   "metadata": {},
   "outputs": [
    {
     "name": "stdout",
     "output_type": "stream",
     "text": [
      "Banana\n"
     ]
    }
   ],
   "source": [
    "thislist = [\"Apple\", \"Banana\", \"Cherry\"]   # Variable is its [] list\n",
    "print (thislist[1])   # subset [] is index"
   ]
  },
  {
   "cell_type": "markdown",
   "id": "4fa601f1",
   "metadata": {},
   "source": [
    "#  Change Item Value\n",
    "To change the value of a specific item, refer to the index number:"
   ]
  },
  {
   "cell_type": "code",
   "execution_count": 3,
   "id": "adee5b0c",
   "metadata": {},
   "outputs": [
    {
     "name": "stdout",
     "output_type": "stream",
     "text": [
      "['Apple', 'Banana', 'Orange']\n"
     ]
    }
   ],
   "source": [
    "thislist = [\"Apple\", \"Banana\", \"Cherry\"]\n",
    "thislist[2] = \"Orange\"\n",
    "print (thislist)"
   ]
  },
  {
   "cell_type": "markdown",
   "id": "18198e15",
   "metadata": {},
   "source": [
    "# List Length\n",
    "To determine how many items a list has, use the len() method:"
   ]
  },
  {
   "cell_type": "code",
   "execution_count": 4,
   "id": "3e164f5f",
   "metadata": {},
   "outputs": [
    {
     "name": "stdout",
     "output_type": "stream",
     "text": [
      "4\n"
     ]
    }
   ],
   "source": [
    "thislist = [\"Apple\", \"Banana\", \"Cherry\", \"Banana\"]\n",
    "print(len(thislist))"
   ]
  },
  {
   "cell_type": "markdown",
   "id": "e077555e",
   "metadata": {},
   "source": [
    "# Add Items\n",
    "To add an item to the end of the list, use the append() method:"
   ]
  },
  {
   "cell_type": "code",
   "execution_count": 5,
   "id": "3c78f237",
   "metadata": {},
   "outputs": [
    {
     "name": "stdout",
     "output_type": "stream",
     "text": [
      "['Apple', 'Banana', 'Cherry', 'Orange']\n"
     ]
    }
   ],
   "source": [
    "thislist = [\"Apple\", \"Banana\", \"Cherry\"]\n",
    "thislist.append(\"Orange\")   # append = add in last\n",
    "print (thislist)"
   ]
  },
  {
   "cell_type": "markdown",
   "id": "73fea78a",
   "metadata": {},
   "source": [
    "* To add an item at the specified index, use the insert() method:"
   ]
  },
  {
   "cell_type": "code",
   "execution_count": 6,
   "id": "bafdb703",
   "metadata": {
    "scrolled": true
   },
   "outputs": [
    {
     "name": "stdout",
     "output_type": "stream",
     "text": [
      "['Orange', 'Apple', 'Banana', 'Cherry']\n"
     ]
    }
   ],
   "source": [
    "thislist = [\"Apple\", \"Banana\", \"Cherry\"]\n",
    "thislist.insert(0,\"Orange\")   # insert= add position wise\n",
    "print (thislist)"
   ]
  },
  {
   "cell_type": "markdown",
   "id": "579cb1f2",
   "metadata": {},
   "source": [
    "#  Remove Item\n",
    "There are several methods to remove items from a list:"
   ]
  },
  {
   "cell_type": "code",
   "execution_count": 7,
   "id": "12d210ec",
   "metadata": {},
   "outputs": [
    {
     "name": "stdout",
     "output_type": "stream",
     "text": [
      "['Apple', 'Cherry']\n"
     ]
    }
   ],
   "source": [
    "thislist = [\"Apple\", \"Banana\", \"Cherry\"]\n",
    "thislist.remove(\"Banana\")   ## dataset.function   # keyword\n",
    "print (thislist)"
   ]
  },
  {
   "cell_type": "markdown",
   "id": "dbde58d1",
   "metadata": {},
   "source": [
    "* The pop() method removes the specified index, (or the last item if index is not specified)"
   ]
  },
  {
   "cell_type": "code",
   "execution_count": 8,
   "id": "b3ad0cdb",
   "metadata": {},
   "outputs": [
    {
     "name": "stdout",
     "output_type": "stream",
     "text": [
      "['Apple', 'Banana']\n"
     ]
    }
   ],
   "source": [
    "thislist = [\"Apple\", \"Banana\", \"Cherry\"]\n",
    "thislist.pop()   ## last or index\n",
    "print (thislist)"
   ]
  },
  {
   "cell_type": "markdown",
   "id": "ffd1849a",
   "metadata": {},
   "source": [
    "* The del Keyword removes the specified index:"
   ]
  },
  {
   "cell_type": "code",
   "execution_count": 9,
   "id": "04d892eb",
   "metadata": {
    "scrolled": true
   },
   "outputs": [
    {
     "name": "stdout",
     "output_type": "stream",
     "text": [
      "['Banana', 'Cherry']\n"
     ]
    }
   ],
   "source": [
    "thislist = [\"Apple\", \"Banana\", \"Cherry\"]\n",
    "del thislist[0]   # del / def\n",
    "print(thislist)"
   ]
  },
  {
   "cell_type": "code",
   "execution_count": 32,
   "id": "3ec936a1",
   "metadata": {},
   "outputs": [
    {
     "ename": "NameError",
     "evalue": "name 'thislist' is not defined",
     "output_type": "error",
     "traceback": [
      "\u001b[1;31m---------------------------------------------------------------------------\u001b[0m",
      "\u001b[1;31mNameError\u001b[0m                                 Traceback (most recent call last)",
      "Input \u001b[1;32mIn [32]\u001b[0m, in \u001b[0;36m<cell line: 4>\u001b[1;34m()\u001b[0m\n\u001b[0;32m      2\u001b[0m thislist \u001b[38;5;241m=\u001b[39m [\u001b[38;5;124m\"\u001b[39m\u001b[38;5;124mApple\u001b[39m\u001b[38;5;124m\"\u001b[39m, \u001b[38;5;124m\"\u001b[39m\u001b[38;5;124mBanana\u001b[39m\u001b[38;5;124m\"\u001b[39m, \u001b[38;5;124m\"\u001b[39m\u001b[38;5;124mCherry\u001b[39m\u001b[38;5;124m\"\u001b[39m]\n\u001b[0;32m      3\u001b[0m \u001b[38;5;28;01mdel\u001b[39;00m thislist\n\u001b[1;32m----> 4\u001b[0m \u001b[38;5;28mprint\u001b[39m (\u001b[43mthislist\u001b[49m)\n",
      "\u001b[1;31mNameError\u001b[0m: name 'thislist' is not defined"
     ]
    }
   ],
   "source": [
    "# the del keyword can also delete the list completely:\n",
    "thislist = [\"Apple\", \"Banana\", \"Cherry\"]\n",
    "del thislist\n",
    "print (thislist)"
   ]
  },
  {
   "cell_type": "markdown",
   "id": "0058864c",
   "metadata": {},
   "source": [
    "* The clear() method empties the list:"
   ]
  },
  {
   "cell_type": "code",
   "execution_count": 10,
   "id": "c74953e7",
   "metadata": {},
   "outputs": [
    {
     "name": "stdout",
     "output_type": "stream",
     "text": [
      "[]\n"
     ]
    }
   ],
   "source": [
    "thislist = [\"Apple\", \"Banana\", \"Cherry\"]\n",
    "thislist.clear()\n",
    "print(thislist)"
   ]
  },
  {
   "cell_type": "markdown",
   "id": "433437d6",
   "metadata": {},
   "source": [
    "# * Make a copy of a list with the copy() method:"
   ]
  },
  {
   "cell_type": "code",
   "execution_count": 11,
   "id": "75bf05f0",
   "metadata": {},
   "outputs": [
    {
     "name": "stdout",
     "output_type": "stream",
     "text": [
      "['Apple', 'Banana', 'Cherry']\n"
     ]
    }
   ],
   "source": [
    "thislist = [\"Apple\", \"Banana\", \"Cherry\"]\n",
    "mylist = thislist   # make connection\n",
    "print (mylist)"
   ]
  },
  {
   "cell_type": "code",
   "execution_count": 12,
   "id": "f5166483",
   "metadata": {},
   "outputs": [
    {
     "name": "stdout",
     "output_type": "stream",
     "text": [
      "[]\n"
     ]
    }
   ],
   "source": [
    "thislist.clear()\n",
    "print (thislist)"
   ]
  },
  {
   "cell_type": "code",
   "execution_count": 13,
   "id": "4513221d",
   "metadata": {},
   "outputs": [
    {
     "name": "stdout",
     "output_type": "stream",
     "text": [
      "[]\n"
     ]
    }
   ],
   "source": [
    "print (mylist)"
   ]
  },
  {
   "cell_type": "code",
   "execution_count": 29,
   "id": "6fbfe774",
   "metadata": {},
   "outputs": [],
   "source": [
    "thislist = [\"Apple\", \"Banana\", \"Cherry\"]\n",
    "mylist = thislist.copy()   #use break connection"
   ]
  },
  {
   "cell_type": "code",
   "execution_count": 30,
   "id": "80d0949c",
   "metadata": {},
   "outputs": [
    {
     "name": "stdout",
     "output_type": "stream",
     "text": [
      "[]\n"
     ]
    }
   ],
   "source": [
    "thislist.clear()\n",
    "print (thislist)"
   ]
  },
  {
   "cell_type": "code",
   "execution_count": 31,
   "id": "ef38eba0",
   "metadata": {},
   "outputs": [
    {
     "name": "stdout",
     "output_type": "stream",
     "text": [
      "['Apple', 'Banana', 'Cherry']\n"
     ]
    }
   ],
   "source": [
    "print (mylist)"
   ]
  },
  {
   "cell_type": "markdown",
   "id": "1e3da55f",
   "metadata": {},
   "source": [
    "#  Count"
   ]
  },
  {
   "cell_type": "code",
   "execution_count": 14,
   "id": "67aa7dd4",
   "metadata": {},
   "outputs": [
    {
     "data": {
      "text/plain": [
       "2"
      ]
     },
     "execution_count": 14,
     "metadata": {},
     "output_type": "execute_result"
    }
   ],
   "source": [
    "fruits = ['apple', 'banana', 'cherry', 'cherry']\n",
    "x = fruits.count(\"cherry\")\n",
    "x"
   ]
  },
  {
   "cell_type": "markdown",
   "id": "3984441a",
   "metadata": {},
   "source": [
    "#  Sorting Data"
   ]
  },
  {
   "cell_type": "code",
   "execution_count": 15,
   "id": "0eba2be9",
   "metadata": {},
   "outputs": [
    {
     "data": {
      "text/plain": [
       "['BMW', 'Ford', 'Volvo']"
      ]
     },
     "execution_count": 15,
     "metadata": {},
     "output_type": "execute_result"
    }
   ],
   "source": [
    "cars = ['Ford', 'BMW', 'Volvo']\n",
    "\n",
    "# By default is ascending order\n",
    "cars.sort()\n",
    "\n",
    "cars"
   ]
  },
  {
   "cell_type": "code",
   "execution_count": 16,
   "id": "15379074",
   "metadata": {},
   "outputs": [
    {
     "data": {
      "text/plain": [
       "['Volvo', 'Ford', 'BMW']"
      ]
     },
     "execution_count": 16,
     "metadata": {},
     "output_type": "execute_result"
    }
   ],
   "source": [
    "# Reverse means Descending order\n",
    "cars.sort(reverse=True)\n",
    "\n",
    "cars"
   ]
  },
  {
   "cell_type": "markdown",
   "id": "e1f13ef0",
   "metadata": {},
   "source": [
    "#  Tuple\n",
    "A tuple is a collection which is ordered and unchangeable. In Python tuples are written as"
   ]
  },
  {
   "cell_type": "code",
   "execution_count": 17,
   "id": "452ce25b",
   "metadata": {},
   "outputs": [
    {
     "name": "stdout",
     "output_type": "stream",
     "text": [
      "('Apple', 'Banana', 'Cherry')\n"
     ]
    }
   ],
   "source": [
    "thistuple = (\"Apple\", \"Banana\", \"Cherry\")\n",
    "print(thistuple)"
   ]
  },
  {
   "cell_type": "code",
   "execution_count": 18,
   "id": "ec6c0f9f",
   "metadata": {},
   "outputs": [
    {
     "name": "stdout",
     "output_type": "stream",
     "text": [
      "Cherry\n"
     ]
    }
   ],
   "source": [
    "thistuple = (\"Apple\", \"Banana\", \"Cherry\")\n",
    "print (thistuple[2])"
   ]
  },
  {
   "cell_type": "markdown",
   "id": "e06f6d7d",
   "metadata": {},
   "source": [
    "#  Change Tuple Values\n",
    "* Once a tuple is created, you cannot"
   ]
  },
  {
   "cell_type": "code",
   "execution_count": 19,
   "id": "77be836c",
   "metadata": {
    "scrolled": true
   },
   "outputs": [
    {
     "ename": "TypeError",
     "evalue": "'tuple' object does not support item assignment",
     "output_type": "error",
     "traceback": [
      "\u001b[1;31m---------------------------------------------------------------------------\u001b[0m",
      "\u001b[1;31mTypeError\u001b[0m                                 Traceback (most recent call last)",
      "Input \u001b[1;32mIn [19]\u001b[0m, in \u001b[0;36m<cell line: 2>\u001b[1;34m()\u001b[0m\n\u001b[0;32m      1\u001b[0m thistuple \u001b[38;5;241m=\u001b[39m (\u001b[38;5;124m\"\u001b[39m\u001b[38;5;124mApple\u001b[39m\u001b[38;5;124m\"\u001b[39m, \u001b[38;5;124m\"\u001b[39m\u001b[38;5;124mBanana\u001b[39m\u001b[38;5;124m\"\u001b[39m, \u001b[38;5;124m\"\u001b[39m\u001b[38;5;124mCherry\u001b[39m\u001b[38;5;124m\"\u001b[39m)\n\u001b[1;32m----> 2\u001b[0m thistuple[\u001b[38;5;241m2\u001b[39m]\u001b[38;5;241m=\u001b[39m \u001b[38;5;124m\"\u001b[39m\u001b[38;5;124mOrange\u001b[39m\u001b[38;5;124m\"\u001b[39m\n",
      "\u001b[1;31mTypeError\u001b[0m: 'tuple' object does not support item assignment"
     ]
    }
   ],
   "source": [
    "thistuple = (\"Apple\", \"Banana\", \"Cherry\")\n",
    "thistuple[2]= \"Orange\"    ## This iwll raise an error            "
   ]
  },
  {
   "cell_type": "markdown",
   "id": "061346f5",
   "metadata": {},
   "source": [
    "# Remove Items\n",
    "* Tuples are unchangeable, so you cannot remove items from it, but you can delete the"
   ]
  },
  {
   "cell_type": "code",
   "execution_count": 20,
   "id": "7fb69174",
   "metadata": {},
   "outputs": [
    {
     "ename": "TypeError",
     "evalue": "'tuple' object doesn't support item deletion",
     "output_type": "error",
     "traceback": [
      "\u001b[1;31m---------------------------------------------------------------------------\u001b[0m",
      "\u001b[1;31mTypeError\u001b[0m                                 Traceback (most recent call last)",
      "Input \u001b[1;32mIn [20]\u001b[0m, in \u001b[0;36m<cell line: 2>\u001b[1;34m()\u001b[0m\n\u001b[0;32m      1\u001b[0m thistuple \u001b[38;5;241m=\u001b[39m (\u001b[38;5;124m\"\u001b[39m\u001b[38;5;124mApple\u001b[39m\u001b[38;5;124m\"\u001b[39m, \u001b[38;5;124m\"\u001b[39m\u001b[38;5;124mBanana\u001b[39m\u001b[38;5;124m\"\u001b[39m, \u001b[38;5;124m\"\u001b[39m\u001b[38;5;124mCherry\u001b[39m\u001b[38;5;124m\"\u001b[39m)\n\u001b[1;32m----> 2\u001b[0m \u001b[38;5;28;01mdel\u001b[39;00m thistuple[\u001b[38;5;241m1\u001b[39m]\n\u001b[0;32m      3\u001b[0m \u001b[38;5;28mprint\u001b[39m (thistuple)\n",
      "\u001b[1;31mTypeError\u001b[0m: 'tuple' object doesn't support item deletion"
     ]
    }
   ],
   "source": [
    "thistuple = (\"Apple\", \"Banana\", \"Cherry\")\n",
    "del thistuple[1]\n",
    "print (thistuple)   # This will raise an error because the tuple no loner exist"
   ]
  },
  {
   "cell_type": "markdown",
   "id": "7940d541",
   "metadata": {},
   "source": [
    "#  Tuple Count()"
   ]
  },
  {
   "cell_type": "code",
   "execution_count": 21,
   "id": "b43dbfe7",
   "metadata": {},
   "outputs": [
    {
     "name": "stdout",
     "output_type": "stream",
     "text": [
      "2\n"
     ]
    }
   ],
   "source": [
    "thistuple = (1,3,7,8,7,5,4,6,8,5)\n",
    "\n",
    "x = thistuple.count(5)\n",
    "print (x)"
   ]
  },
  {
   "cell_type": "markdown",
   "id": "338f0e56",
   "metadata": {},
   "source": [
    "#  Set\n",
    "A set is a collection which is unordered and unindexed. In python sets are written with curly brackets."
   ]
  },
  {
   "cell_type": "code",
   "execution_count": 23,
   "id": "2262d535",
   "metadata": {},
   "outputs": [
    {
     "name": "stdout",
     "output_type": "stream",
     "text": [
      "{'Orange', 'Apple', 'Cherry', 'Banana'}\n"
     ]
    }
   ],
   "source": [
    "thisset = {\"Apple\", \"Banana\", \"Cherry\"}\n",
    "\n",
    "thisset.add(\"Orange\")   # one keyword\n",
    "\n",
    "print (thisset)"
   ]
  },
  {
   "cell_type": "code",
   "execution_count": 24,
   "id": "3a6db87f",
   "metadata": {},
   "outputs": [
    {
     "name": "stdout",
     "output_type": "stream",
     "text": [
      "{'Apple', 'Grapes', 'Cherry', 'Mango', 'Banana', 'Orange'}\n"
     ]
    }
   ],
   "source": [
    "thisset = {\"Apple\", \"Banana\", \"Cherry\"}\n",
    "\n",
    "thisset.update ([\"Orange\", \"Mango\", \"Grapes\"])   # multiple keyword\n",
    "\n",
    "print (thisset)"
   ]
  },
  {
   "cell_type": "markdown",
   "id": "5473eeca",
   "metadata": {},
   "source": [
    "#  Remove Item\n",
    "To remove an Item in a set, use the remove(), or the discard() method."
   ]
  },
  {
   "cell_type": "code",
   "execution_count": 25,
   "id": "80b45b97",
   "metadata": {},
   "outputs": [
    {
     "name": "stdout",
     "output_type": "stream",
     "text": [
      "{'Apple', 'Cherry'}\n"
     ]
    }
   ],
   "source": [
    "thisset = {\"Apple\", \"Banana\", \"Cherry\", \"Banana\"}\n",
    "\n",
    "thisset.remove(\"Banana\")\n",
    "\n",
    "print(thisset)  # If the item to remove does not exist, \n",
    "# remove() will raise an error."
   ]
  },
  {
   "cell_type": "code",
   "execution_count": 26,
   "id": "7d5dac9f",
   "metadata": {},
   "outputs": [
    {
     "name": "stdout",
     "output_type": "stream",
     "text": [
      "{'Apple', 'Cherry'}\n"
     ]
    }
   ],
   "source": [
    "thisset = {\"Apple\", \"Banana\", \"Cherry\"}\n",
    "\n",
    "thisset.discard(\"Banana\")\n",
    "\n",
    "print (thisset)   # If the item to remove does not exist, \n",
    "# discard() will NOT raise an error."
   ]
  },
  {
   "cell_type": "code",
   "execution_count": 28,
   "id": "3926934a",
   "metadata": {},
   "outputs": [
    {
     "name": "stdout",
     "output_type": "stream",
     "text": [
      "Apple\n",
      "{'Cherry', 'Banana'}\n"
     ]
    }
   ],
   "source": [
    "thisset = {\"Apple\", \"Banana\", \"Cherry\"}\n",
    "\n",
    "x = thisset.pop()   # Sets are unordered, so when using the pop() method,\n",
    "                    # you will not know which item that gets removed\n",
    "    \n",
    "print (x)\n",
    "    \n",
    "print (thisset)"
   ]
  },
  {
   "cell_type": "markdown",
   "id": "df2e71d6",
   "metadata": {},
   "source": [
    "#  Dictionary\n",
    "A disctionary is a collection which is unordered, changeable and indexed. In Python disctionaries are written"
   ]
  },
  {
   "cell_type": "code",
   "execution_count": 36,
   "id": "420ad7af",
   "metadata": {},
   "outputs": [
    {
     "name": "stdout",
     "output_type": "stream",
     "text": [
      "{'Brand': 'Ford', 'Model': 'Mustang', 'Year': ' 1964'}\n"
     ]
    }
   ],
   "source": [
    "#thisdict = {\"Key\": \"Value\"}\n",
    "\n",
    "thisdict = {\n",
    "    \"Brand\" : \"Ford\",   # Column 1\n",
    "    \"Model\" : \"Mustang\",  # column 2\n",
    "    \"Year\" : \" 1964\"   # column 3\n",
    "}\n",
    "print (thisdict)"
   ]
  },
  {
   "cell_type": "markdown",
   "id": "9b67357c",
   "metadata": {},
   "source": [
    "#  Change Values\n",
    "You can change ht value of a specific item by referring to its key name:"
   ]
  },
  {
   "cell_type": "code",
   "execution_count": 37,
   "id": "7e9bdf0d",
   "metadata": {},
   "outputs": [
    {
     "name": "stdout",
     "output_type": "stream",
     "text": [
      "{'Brand': 'Ford', 'Model': 'Mustang', 'Year': ' 1964', 'year': 2022}\n"
     ]
    }
   ],
   "source": [
    "thisdict = {\n",
    "     \"Brand\" : \"Ford\",   \n",
    "    \"Model\" : \"Mustang\",  \n",
    "    \"Year\"  : \" 1964\"\n",
    "}\n",
    "thisdict[\"year\"] = 2022\n",
    "print (thisdict)"
   ]
  },
  {
   "cell_type": "markdown",
   "id": "9470c5ae",
   "metadata": {},
   "source": [
    "#  Adding Items\n",
    "Adding an item to the dictionary is done by using a new index key and assigning a value to it:"
   ]
  },
  {
   "cell_type": "code",
   "execution_count": 38,
   "id": "343bc83b",
   "metadata": {},
   "outputs": [
    {
     "name": "stdout",
     "output_type": "stream",
     "text": [
      "{'Brand': 'Ford', 'Model': 'Mustang', 'Year': 1964, 'colour': 'red'}\n"
     ]
    }
   ],
   "source": [
    "thisdict = {\n",
    "     \"Brand\" : \"Ford\",   \n",
    "    \"Model\" : \"Mustang\",  \n",
    "    \"Year\" : 1964\n",
    "}\n",
    "thisdict[\"colour\"]= \"red\"\n",
    "print (thisdict)"
   ]
  },
  {
   "cell_type": "markdown",
   "id": "b8f7c7a8",
   "metadata": {},
   "source": [
    "# Removing Items\n",
    "There are several methods to remove items from a dictionary:"
   ]
  },
  {
   "cell_type": "code",
   "execution_count": 40,
   "id": "100bf3ce",
   "metadata": {},
   "outputs": [
    {
     "name": "stdout",
     "output_type": "stream",
     "text": [
      "{'Model': 'Mustang', 'Year': 1964}\n"
     ]
    }
   ],
   "source": [
    "thisdict = {\n",
    "     \"Brand\" : \"Ford\",   \n",
    "    \"Model\" : \"Mustang\", \n",
    "    \"Year\" : 1964\n",
    "}\n",
    "thisdict.pop(\"Brand\")\n",
    "print (thisdict)"
   ]
  },
  {
   "cell_type": "code",
   "execution_count": null,
   "id": "ba54e192",
   "metadata": {},
   "outputs": [],
   "source": []
  }
 ],
 "metadata": {
  "kernelspec": {
   "display_name": "Python 3 (ipykernel)",
   "language": "python",
   "name": "python3"
  },
  "language_info": {
   "codemirror_mode": {
    "name": "ipython",
    "version": 3
   },
   "file_extension": ".py",
   "mimetype": "text/x-python",
   "name": "python",
   "nbconvert_exporter": "python",
   "pygments_lexer": "ipython3",
   "version": "3.9.12"
  }
 },
 "nbformat": 4,
 "nbformat_minor": 5
}
