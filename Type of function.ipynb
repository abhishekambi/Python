{
 "cells": [
  {
   "cell_type": "markdown",
   "id": "09b237e0",
   "metadata": {},
   "source": [
    "# Agenda\n",
    "* Functions\n",
    "* Lambda"
   ]
  },
  {
   "cell_type": "markdown",
   "id": "f1a278ac",
   "metadata": {},
   "source": [
    "# Python Functions\n",
    "* A function is a block of code which only runs when it is called.\n",
    "* You can pass data, kknown as parameters, into a function.\n",
    "* A function can return data as a result."
   ]
  },
  {
   "cell_type": "markdown",
   "id": "1668109b",
   "metadata": {},
   "source": [
    "#  Creating a Function\n",
    "In Python a function is defined using the def keyword"
   ]
  },
  {
   "cell_type": "code",
   "execution_count": 2,
   "id": "65d9eaa9",
   "metadata": {},
   "outputs": [],
   "source": [
    "def abc():  #def = define, Name = abc, : = stop\n",
    "    print(\"Good Afternoon\")"
   ]
  },
  {
   "cell_type": "code",
   "execution_count": 3,
   "id": "903c8750",
   "metadata": {},
   "outputs": [
    {
     "name": "stdout",
     "output_type": "stream",
     "text": [
      "Good Afternoon\n"
     ]
    }
   ],
   "source": [
    "abc()"
   ]
  },
  {
   "cell_type": "markdown",
   "id": "24925bb1",
   "metadata": {},
   "source": [
    "#  Calling a Function\n",
    "To call a function, use the function name followed by parenthesis:"
   ]
  },
  {
   "cell_type": "code",
   "execution_count": 4,
   "id": "872b409a",
   "metadata": {},
   "outputs": [],
   "source": [
    "def my_function():\n",
    "    print(\"Hello from a function\")"
   ]
  },
  {
   "cell_type": "code",
   "execution_count": 5,
   "id": "67f2c766",
   "metadata": {},
   "outputs": [
    {
     "name": "stdout",
     "output_type": "stream",
     "text": [
      "Hello from a function\n"
     ]
    }
   ],
   "source": [
    "my_function()"
   ]
  },
  {
   "cell_type": "markdown",
   "id": "9bbca958",
   "metadata": {},
   "source": [
    "# Function without Parameter"
   ]
  },
  {
   "cell_type": "code",
   "execution_count": 9,
   "id": "2a2ea1cd",
   "metadata": {},
   "outputs": [],
   "source": [
    "def miss():\n",
    "    xy='Curd'\n",
    "    if xy==\"Curd\":\n",
    "        print(\"Here is your food.\")\n",
    "    else:\n",
    "        print(\"Invalid\")"
   ]
  },
  {
   "cell_type": "code",
   "execution_count": 13,
   "id": "afcf516f",
   "metadata": {},
   "outputs": [
    {
     "name": "stdout",
     "output_type": "stream",
     "text": [
      "Here is your food.\n"
     ]
    }
   ],
   "source": [
    "miss()"
   ]
  },
  {
   "cell_type": "code",
   "execution_count": 15,
   "id": "2d2903ad",
   "metadata": {},
   "outputs": [
    {
     "name": "stdout",
     "output_type": "stream",
     "text": [
      "Food is missed.\n"
     ]
    }
   ],
   "source": [
    "def miss():\n",
    "    print(\"Food is missed.\")\n",
    "\n",
    "x=\"Rice\"   # variable\n",
    "if x==\"Curd\":\n",
    "    print ('Here is your food.')\n",
    "else:\n",
    "    miss()"
   ]
  },
  {
   "cell_type": "markdown",
   "id": "ca02f640",
   "metadata": {},
   "source": [
    "#  Function with Parameters\n",
    "Information can be passed to functions as parameter.\n",
    "Parameters are specified after the function name, inside the parentheses. You can add as many parameters as follo.\n",
    "The following example has a function wich one parameter(frame): When the function is called, we pass along print the full name:"
   ]
  },
  {
   "cell_type": "code",
   "execution_count": 19,
   "id": "bec99d05",
   "metadata": {},
   "outputs": [],
   "source": [
    "def abc(first_name):   # first_name = parameter\n",
    "    print (first_name + \" All good\" + \",Good Evening\")"
   ]
  },
  {
   "cell_type": "code",
   "execution_count": 20,
   "id": "9a7371bc",
   "metadata": {},
   "outputs": [
    {
     "name": "stdout",
     "output_type": "stream",
     "text": [
      "Irfan All good,Good Evening\n"
     ]
    }
   ],
   "source": [
    "abc(\"Irfan\")# first"
   ]
  },
  {
   "cell_type": "code",
   "execution_count": 21,
   "id": "4a4efc43",
   "metadata": {},
   "outputs": [],
   "source": [
    "def my_function(a,b):\n",
    "    total=a+b  # baby 1 = Variable # 10\n",
    "    sub = total/2   # body 2 # 5\n",
    "    return (total, sub)  # return = give us output"
   ]
  },
  {
   "cell_type": "code",
   "execution_count": 22,
   "id": "0313c9e0",
   "metadata": {},
   "outputs": [
    {
     "data": {
      "text/plain": [
       "(10, 5.0)"
      ]
     },
     "execution_count": 22,
     "metadata": {},
     "output_type": "execute_result"
    }
   ],
   "source": [
    "my_function(7,3)"
   ]
  },
  {
   "cell_type": "code",
   "execution_count": 34,
   "id": "753c3a93",
   "metadata": {},
   "outputs": [],
   "source": [
    "def substraction(a,b,c):\n",
    "    x=a-b-c  # body1\n",
    "    y=a+b+c   # body 2\n",
    "    z=x+y\n",
    "    u= x-y\n",
    "    return (x,y,z,u)"
   ]
  },
  {
   "cell_type": "code",
   "execution_count": 35,
   "id": "e1a0322e",
   "metadata": {},
   "outputs": [
    {
     "data": {
      "text/plain": [
       "(-10, 30, 20, -40)"
      ]
     },
     "execution_count": 35,
     "metadata": {},
     "output_type": "execute_result"
    }
   ],
   "source": [
    "substraction(10,10,10)"
   ]
  },
  {
   "cell_type": "markdown",
   "id": "2ed74c36",
   "metadata": {},
   "source": [
    "* The arguments or parameters which are in a positional formate in a (Parameters much be in a order)\n",
    "parameters. Parameters in function call will perfectly match with the function definition."
   ]
  },
  {
   "cell_type": "code",
   "execution_count": 36,
   "id": "dbe0212f",
   "metadata": {},
   "outputs": [],
   "source": [
    "def num(var1,var2,var3,var4):\n",
    "    output = var1*var2*var3*var4\n",
    "    return output"
   ]
  },
  {
   "cell_type": "code",
   "execution_count": 50,
   "id": "ae21cf60",
   "metadata": {},
   "outputs": [
    {
     "data": {
      "text/plain": [
       "24"
      ]
     },
     "execution_count": 50,
     "metadata": {},
     "output_type": "execute_result"
    }
   ],
   "source": [
    "num(2,3,2,2)"
   ]
  },
  {
   "cell_type": "markdown",
   "id": "a462b516",
   "metadata": {},
   "source": [
    "# Keyword Arguments\n",
    "You can also send arguments with the key= value syntax.\n",
    "This way the order of the argumets does not matter."
   ]
  },
  {
   "cell_type": "code",
   "execution_count": 51,
   "id": "e9157a27",
   "metadata": {},
   "outputs": [],
   "source": [
    "def my_function(child3, child2, child1):\n",
    "    print(\"The youngest child is \" + child2)"
   ]
  },
  {
   "cell_type": "code",
   "execution_count": 53,
   "id": "ae94eeb1",
   "metadata": {},
   "outputs": [
    {
     "name": "stdout",
     "output_type": "stream",
     "text": [
      "The youngest child is Hitesh\n"
     ]
    }
   ],
   "source": [
    "my_function(child2 = \"Hitesh\", child1 = \"Anil\", child3 = \"Nikita\")"
   ]
  },
  {
   "cell_type": "markdown",
   "id": "501a6a09",
   "metadata": {},
   "source": [
    "#  Default Parameter Value\n",
    "The following example shows how to use a default parameter value.\n",
    "If we call the function without parameter, it uses the default value:"
   ]
  },
  {
   "cell_type": "code",
   "execution_count": 44,
   "id": "f82310d5",
   "metadata": {},
   "outputs": [],
   "source": [
    "def my_function(country = \"Norway\"):\n",
    "    print(\"I am from \"+ country)"
   ]
  },
  {
   "cell_type": "code",
   "execution_count": 45,
   "id": "c8e2409c",
   "metadata": {},
   "outputs": [
    {
     "name": "stdout",
     "output_type": "stream",
     "text": [
      "I am from Norway\n"
     ]
    }
   ],
   "source": [
    "my_function()"
   ]
  },
  {
   "cell_type": "code",
   "execution_count": 46,
   "id": "28d584b3",
   "metadata": {},
   "outputs": [
    {
     "name": "stdout",
     "output_type": "stream",
     "text": [
      "I am from India\n"
     ]
    }
   ],
   "source": [
    "my_function(\"India\")"
   ]
  },
  {
   "cell_type": "code",
   "execution_count": 47,
   "id": "9b14a3cd",
   "metadata": {},
   "outputs": [],
   "source": [
    "def salary_hra(x,hra=4):   # x & hra = 4 default\n",
    "    output = x*(hra/100)\n",
    "    return output"
   ]
  },
  {
   "cell_type": "code",
   "execution_count": 48,
   "id": "3417613f",
   "metadata": {},
   "outputs": [
    {
     "data": {
      "text/plain": [
       "400.0"
      ]
     },
     "execution_count": 48,
     "metadata": {},
     "output_type": "execute_result"
    }
   ],
   "source": [
    "salary_hra(10000)"
   ]
  },
  {
   "cell_type": "code",
   "execution_count": 49,
   "id": "233e2b3a",
   "metadata": {},
   "outputs": [
    {
     "data": {
      "text/plain": [
       "600.0"
      ]
     },
     "execution_count": 49,
     "metadata": {},
     "output_type": "execute_result"
    }
   ],
   "source": [
    "salary_hra(10000,6)"
   ]
  },
  {
   "cell_type": "markdown",
   "id": "4c34fc5f",
   "metadata": {},
   "source": [
    "# Passing a List as a Parameter\n",
    "You can send any data types of parameters to a function(String, number, list, dictionary etc.)\n",
    "E.g. if you send a list as a parameter, it will still be x list when it reaches the function."
   ]
  },
  {
   "cell_type": "code",
   "execution_count": 54,
   "id": "1ed095af",
   "metadata": {},
   "outputs": [],
   "source": [
    "def my_function(food):\n",
    "    for x in food:   # iteration\n",
    "        print(x)"
   ]
  },
  {
   "cell_type": "code",
   "execution_count": 55,
   "id": "53d2a707",
   "metadata": {},
   "outputs": [
    {
     "data": {
      "text/plain": [
       "['apple', 'banana', 'cherry']"
      ]
     },
     "execution_count": 55,
     "metadata": {},
     "output_type": "execute_result"
    }
   ],
   "source": [
    "fruits = ['apple', 'banana','cherry']\n",
    "fruits"
   ]
  },
  {
   "cell_type": "code",
   "execution_count": 56,
   "id": "4908dec4",
   "metadata": {},
   "outputs": [
    {
     "name": "stdout",
     "output_type": "stream",
     "text": [
      "apple\n",
      "banana\n",
      "cherry\n"
     ]
    }
   ],
   "source": [
    "my_function(fruits)   #food=fruits = x "
   ]
  },
  {
   "cell_type": "markdown",
   "id": "d581c1b8",
   "metadata": {},
   "source": [
    "#  Return Values\n",
    "* To let a function return a value, use the return statement\n",
    "* The return statemetn is used to exit a function and go back to the place from where"
   ]
  },
  {
   "cell_type": "code",
   "execution_count": 57,
   "id": "f46e8c6b",
   "metadata": {},
   "outputs": [
    {
     "name": "stdout",
     "output_type": "stream",
     "text": [
      "-2\n",
      "4\n"
     ]
    }
   ],
   "source": [
    "def absolute_value(num):\n",
    "    if num >= 3:\n",
    "        return num\n",
    "    else:\n",
    "        return -num\n",
    "# Output : 2\n",
    "print(absolute_value(2))\n",
    "\n",
    "# Output: 4\n",
    "print(absolute_value(4))"
   ]
  },
  {
   "cell_type": "markdown",
   "id": "a0e9bec9",
   "metadata": {},
   "source": [
    "# Collecting Parameter or Arbitrary Arguments\n",
    "If you do not know how many arguments tht will be passed into your function, add a *  before the parameter.\n",
    "This way the function will receive a tuple of arguments, and can access the items accordingly."
   ]
  },
  {
   "cell_type": "code",
   "execution_count": 58,
   "id": "16f5e211",
   "metadata": {},
   "outputs": [],
   "source": [
    "def my_function(*kids):   # Parameter = nth number of kids\n",
    "    print(\"The youngest child is \" + kids[0])"
   ]
  },
  {
   "cell_type": "code",
   "execution_count": 59,
   "id": "d9c732a4",
   "metadata": {},
   "outputs": [
    {
     "name": "stdout",
     "output_type": "stream",
     "text": [
      "The youngest child is Hitesh\n"
     ]
    }
   ],
   "source": [
    "my_function(\"Hitesh\", \"Pranay\", \"Irfan\", \"Pratik\", \"Ubaid\")"
   ]
  }
 ],
 "metadata": {
  "kernelspec": {
   "display_name": "Python 3 (ipykernel)",
   "language": "python",
   "name": "python3"
  },
  "language_info": {
   "codemirror_mode": {
    "name": "ipython",
    "version": 3
   },
   "file_extension": ".py",
   "mimetype": "text/x-python",
   "name": "python",
   "nbconvert_exporter": "python",
   "pygments_lexer": "ipython3",
   "version": "3.9.12"
  }
 },
 "nbformat": 4,
 "nbformat_minor": 5
}
