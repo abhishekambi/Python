{
 "cells": [
  {
   "cell_type": "markdown",
   "id": "d84faa5a",
   "metadata": {},
   "source": [
    "# ---1---"
   ]
  },
  {
   "cell_type": "code",
   "execution_count": 1,
   "id": "f788d1ef",
   "metadata": {},
   "outputs": [
    {
     "data": {
      "text/plain": [
       "['He is a good boy',\n",
       " 'Food is the worst here',\n",
       " 'He is an awesome player',\n",
       " 'She is the best',\n",
       " 'This pizza tastes awful',\n",
       " 'These burger are really nice']"
      ]
     },
     "execution_count": 1,
     "metadata": {},
     "output_type": "execute_result"
    }
   ],
   "source": [
    "comments = ['He is a good boy', 'Food is the worst here', 'He is an awesome player', 'She is the best',\n",
    "'This pizza tastes awful', 'These burger are really nice']\n",
    "comments"
   ]
  },
  {
   "cell_type": "code",
   "execution_count": 2,
   "id": "3f53f9cb",
   "metadata": {},
   "outputs": [],
   "source": [
    "positive = ['good','awesome', 'best', 'nice'] \n",
    "negative = ['worst','awful']"
   ]
  },
  {
   "cell_type": "code",
   "execution_count": 3,
   "id": "97fa5669",
   "metadata": {},
   "outputs": [
    {
     "name": "stdout",
     "output_type": "stream",
     "text": [
      "['He', 'is', 'a', 'good', 'boy']\n",
      "['Food', 'is', 'the', 'worst', 'here']\n",
      "['He', 'is', 'an', 'awesome', 'player']\n",
      "['She', 'is', 'the', 'best']\n",
      "['This', 'pizza', 'tastes', 'awful']\n",
      "['These', 'burger', 'are', 'really', 'nice']\n"
     ]
    }
   ],
   "source": [
    "for i in comments:\n",
    "    tokens = i.split()\n",
    "    print(tokens)"
   ]
  },
  {
   "cell_type": "code",
   "execution_count": 4,
   "id": "de420055",
   "metadata": {},
   "outputs": [],
   "source": [
    "for word in tokens:\n",
    "    if word in negative:\n",
    "        print(-1)"
   ]
  },
  {
   "cell_type": "code",
   "execution_count": 5,
   "id": "fcfbd509",
   "metadata": {},
   "outputs": [],
   "source": [
    "def analyze (text, pos_words= positive, neg_words= negative):\n",
    "    score = 0\n",
    "    tokens = text.split(\" \")\n",
    "    score += sum(1 for word in tokens if word in pos_words)\n",
    "    score += sum(-1 for word in tokens if word in neg_words)\n",
    "    \n",
    "    if score > 0:\n",
    "        sentiment = \"Positive\"\n",
    "    elif score < 0:\n",
    "        sentiment = \"Negative\"\n",
    "    return sentiment"
   ]
  },
  {
   "cell_type": "code",
   "execution_count": 6,
   "id": "568e6670",
   "metadata": {},
   "outputs": [
    {
     "name": "stdout",
     "output_type": "stream",
     "text": [
      "comments: He is a good boy : Positive\n",
      "comments: Food is the worst here : Negative\n",
      "comments: He is an awesome player : Positive\n",
      "comments: She is the best : Positive\n",
      "comments: This pizza tastes awful : Negative\n",
      "comments: These burger are really nice : Positive\n"
     ]
    }
   ],
   "source": [
    "for text in comments:\n",
    "    sentiment = analyze (text, positive, negative)\n",
    "    print(f\"comments: {text} : {sentiment}\")"
   ]
  },
  {
   "cell_type": "markdown",
   "id": "8a8d4133",
   "metadata": {},
   "source": [
    "# ---2---"
   ]
  },
  {
   "cell_type": "code",
   "execution_count": 7,
   "id": "d0e96c61",
   "metadata": {},
   "outputs": [
    {
     "name": "stdout",
     "output_type": "stream",
     "text": [
      "3\n",
      "37.732050807568875\n"
     ]
    }
   ],
   "source": [
    "import numpy as np\n",
    "import math\n",
    "A ={'Square':lambda x: x**2,\n",
    "    'Cube':lambda x: x**3,\n",
    "    'Squareroot':lambda x:np.sqrt(x)}\n",
    "num=int(input())\n",
    "result=0 ;\n",
    "for fun in A:\n",
    "    result += A[fun](num)\n",
    "print(result)"
   ]
  },
  {
   "cell_type": "markdown",
   "id": "8a428c41",
   "metadata": {},
   "source": [
    "# ---3---"
   ]
  },
  {
   "cell_type": "code",
   "execution_count": 8,
   "id": "11761f28",
   "metadata": {},
   "outputs": [
    {
     "data": {
      "text/plain": [
       "(('Lemon', 'sour'),\n",
       " ('DragonFruit', 'Sweet'),\n",
       " ('Grapes', 'soUr'),\n",
       " ('Kiwi', 'Sour'),\n",
       " ('Apples', 'sweet'),\n",
       " ('Orange', 'sour'),\n",
       " ('Blueberries', 'sweet'),\n",
       " ('Limes', 'Sour'))"
      ]
     },
     "execution_count": 8,
     "metadata": {},
     "output_type": "execute_result"
    }
   ],
   "source": [
    "fruits = (('Lemon','sour'),\n",
    "('DragonFruit', 'Sweet'),\n",
    "('Grapes','soUr'),\n",
    "('Kiwi','Sour'),\n",
    "('Apples','sweet'),\n",
    "('Orange','sour'),\n",
    "('Blueberries','sweet'),\n",
    "('Limes','Sour')\n",
    ")\n",
    "fruits"
   ]
  },
  {
   "cell_type": "code",
   "execution_count": 9,
   "id": "3234eae6",
   "metadata": {},
   "outputs": [],
   "source": [
    "output = []"
   ]
  },
  {
   "cell_type": "code",
   "execution_count": 10,
   "id": "02715b72",
   "metadata": {},
   "outputs": [
    {
     "data": {
      "text/plain": [
       "['Lemon', 'Grapes', 'Kiwi', 'Orange', 'Limes']"
      ]
     },
     "execution_count": 10,
     "metadata": {},
     "output_type": "execute_result"
    }
   ],
   "source": [
    "for i in fruits:\n",
    "    Fruit, taste = i\n",
    "    abc = 'sour'\n",
    "    if taste.lower() == abc.lower():\n",
    "        output.append(Fruit)\n",
    "output"
   ]
  },
  {
   "cell_type": "markdown",
   "id": "ae5584a4",
   "metadata": {},
   "source": [
    "# ---4---"
   ]
  },
  {
   "cell_type": "code",
   "execution_count": 11,
   "id": "039f17b9",
   "metadata": {},
   "outputs": [
    {
     "data": {
      "text/plain": [
       "['hello', 'Dear', 'hOw', 'ARe', 'You']"
      ]
     },
     "execution_count": 11,
     "metadata": {},
     "output_type": "execute_result"
    }
   ],
   "source": [
    "ls = ['hello', 'Dear', 'hOw', 'ARe', 'You']\n",
    "ls"
   ]
  },
  {
   "cell_type": "code",
   "execution_count": 12,
   "id": "b832d6ed",
   "metadata": {},
   "outputs": [
    {
     "name": "stdout",
     "output_type": "stream",
     "text": [
      "['hello']\n",
      "['Dear']\n",
      "['hOw']\n",
      "['ARe']\n",
      "['You']\n"
     ]
    }
   ],
   "source": [
    "for i in ls:\n",
    "    own = i.split()\n",
    "    print(own)"
   ]
  },
  {
   "cell_type": "code",
   "execution_count": 13,
   "id": "c01ae831",
   "metadata": {},
   "outputs": [],
   "source": [
    "for word in own:\n",
    "    if word[1].isupper():\n",
    "        print (word)"
   ]
  },
  {
   "cell_type": "markdown",
   "id": "7bbbb21f",
   "metadata": {},
   "source": [
    "# ---5---"
   ]
  },
  {
   "cell_type": "code",
   "execution_count": 14,
   "id": "8d3a1cee",
   "metadata": {
    "scrolled": true
   },
   "outputs": [
    {
     "ename": "NameError",
     "evalue": "name 'wEarth' is not defined",
     "output_type": "error",
     "traceback": [
      "\u001b[1;31m---------------------------------------------------------------------------\u001b[0m",
      "\u001b[1;31mNameError\u001b[0m                                 Traceback (most recent call last)",
      "Input \u001b[1;32mIn [14]\u001b[0m, in \u001b[0;36m<cell line: 4>\u001b[1;34m()\u001b[0m\n\u001b[0;32m      2\u001b[0m GMoon \u001b[38;5;241m=\u001b[39m \u001b[38;5;241m1.622\u001b[39m\n\u001b[0;32m      3\u001b[0m GEarth \u001b[38;5;241m=\u001b[39m \u001b[38;5;241m9.81\u001b[39m\n\u001b[1;32m----> 4\u001b[0m wMoon \u001b[38;5;241m=\u001b[39m (\u001b[43mwEarth\u001b[49m \u001b[38;5;241m*\u001b[39m GMoon) \u001b[38;5;241m/\u001b[39m GEarth\n",
      "\u001b[1;31mNameError\u001b[0m: name 'wEarth' is not defined"
     ]
    }
   ],
   "source": [
    "WeightOnEarth = {'John':45, 'Shelly':65, 'Marry':35}\n",
    "GMoon = 1.622\n",
    "GEarth = 9.81\n",
    "wMoon = (wEarth * GMoon) / GEarth"
   ]
  },
  {
   "cell_type": "markdown",
   "id": "41874d71",
   "metadata": {},
   "source": [
    "# ---6---"
   ]
  },
  {
   "cell_type": "code",
   "execution_count": 15,
   "id": "69a70c89",
   "metadata": {},
   "outputs": [
    {
     "data": {
      "text/plain": [
       "['santa Maria', 'Hello World', 'Merry christmas', 'tHankYou']"
      ]
     },
     "execution_count": 15,
     "metadata": {},
     "output_type": "execute_result"
    }
   ],
   "source": [
    "txt = ['santa Maria', 'Hello World','Merry christmas', 'tHankYou']\n",
    "txt"
   ]
  },
  {
   "cell_type": "code",
   "execution_count": 16,
   "id": "f58826bf",
   "metadata": {},
   "outputs": [
    {
     "name": "stdout",
     "output_type": "stream",
     "text": [
      "['santa', 'Maria']\n",
      "['Hello', 'World']\n",
      "['Merry', 'christmas']\n",
      "['tHankYou']\n"
     ]
    }
   ],
   "source": [
    "for i in txt:\n",
    "    rash = i.split()\n",
    "    print(rash)"
   ]
  },
  {
   "cell_type": "code",
   "execution_count": 17,
   "id": "b188436d",
   "metadata": {},
   "outputs": [],
   "source": [
    "for word in rash:\n",
    "    if word[0].isupper():\n",
    "        print (word)"
   ]
  },
  {
   "cell_type": "markdown",
   "id": "baf530b4",
   "metadata": {},
   "source": [
    "# ---7---"
   ]
  },
  {
   "cell_type": "code",
   "execution_count": 18,
   "id": "d610f5db",
   "metadata": {},
   "outputs": [
    {
     "data": {
      "text/plain": [
       "[[1, 2, 3, 4, 8],\n",
       " [2, 3, 8, 5, 6],\n",
       " [8, 4, 5, 3, 7],\n",
       " [6, 9, 8, 3],\n",
       " [9, 12, 3, 7, 6, 8, 4, 6, 21, 1, 6]]"
      ]
     },
     "execution_count": 18,
     "metadata": {},
     "output_type": "execute_result"
    }
   ],
   "source": [
    "Set = [[1, 2, 3, 4, 8], [2, 3, 8, 5, 6], [8, 4, 5, 3, 7], [6, 9, 8, 3], [9,\n",
    "12, 3, 7, 6, 8, 4, 6, 21, 1, 6]]\n",
    "Set"
   ]
  },
  {
   "cell_type": "code",
   "execution_count": 19,
   "id": "f3aa17b2",
   "metadata": {},
   "outputs": [
    {
     "data": {
      "text/plain": [
       "{3, 8}"
      ]
     },
     "execution_count": 19,
     "metadata": {},
     "output_type": "execute_result"
    }
   ],
   "source": [
    "from functools import reduce\n",
    "reduce(set.intersection, [set(Set) for Set in Set])"
   ]
  },
  {
   "cell_type": "markdown",
   "id": "49cde2f8",
   "metadata": {},
   "source": [
    "# ---8---"
   ]
  },
  {
   "cell_type": "code",
   "execution_count": 20,
   "id": "b6e3a174",
   "metadata": {},
   "outputs": [
    {
     "data": {
      "text/plain": [
       "[9, 8, 7, 6, 5]"
      ]
     },
     "execution_count": 20,
     "metadata": {},
     "output_type": "execute_result"
    }
   ],
   "source": [
    "A = [9,8,7,6,5]\n",
    "A"
   ]
  },
  {
   "cell_type": "code",
   "execution_count": 21,
   "id": "ec7451d0",
   "metadata": {},
   "outputs": [
    {
     "name": "stdout",
     "output_type": "stream",
     "text": [
      "Average value of the list:\n",
      "\n",
      "7.0\n"
     ]
    }
   ],
   "source": [
    "A = [9,8,7,6,5]\n",
    "A_len= len(A)\n",
    "A_avg = reduce(lambda x, y: x + y, A) /A_len \n",
    "print(\"Average value of the list:\\n\") \n",
    "print(A_avg)"
   ]
  },
  {
   "cell_type": "markdown",
   "id": "7ab9f6b7",
   "metadata": {},
   "source": [
    "# ---9---"
   ]
  },
  {
   "cell_type": "code",
   "execution_count": 22,
   "id": "495fd980",
   "metadata": {},
   "outputs": [
    {
     "data": {
      "text/plain": [
       "['True', 'FALse', 'tRUe', 'tRue', 'False', 'faLse']"
      ]
     },
     "execution_count": 22,
     "metadata": {},
     "output_type": "execute_result"
    }
   ],
   "source": [
    "TF = ['True','FALse','tRUe','tRue','False','faLse']\n",
    "TF"
   ]
  },
  {
   "cell_type": "code",
   "execution_count": 23,
   "id": "8ee09d91",
   "metadata": {},
   "outputs": [
    {
     "name": "stdout",
     "output_type": "stream",
     "text": [
      "['TRUE', 'FALSE', 'TRUE', 'TRUE', 'FALSE', 'FALSE']\n"
     ]
    }
   ],
   "source": [
    "lst = [x.upper() for x in TF]\n",
    "print(lst)"
   ]
  },
  {
   "cell_type": "markdown",
   "id": "595c1b03",
   "metadata": {},
   "source": [
    "# ---10---"
   ]
  },
  {
   "cell_type": "code",
   "execution_count": 24,
   "id": "58a03bb9",
   "metadata": {},
   "outputs": [
    {
     "data": {
      "text/plain": [
       "['17-12-1997', '22-04-2011', '01-05-1993', '19-06-2020']"
      ]
     },
     "execution_count": 24,
     "metadata": {},
     "output_type": "execute_result"
    }
   ],
   "source": [
    "Dtl = ['17-12-1997','22-04-2011','01-05-1993','19-06-2020']\n",
    "Dtl"
   ]
  },
  {
   "cell_type": "code",
   "execution_count": 25,
   "id": "90710e2f",
   "metadata": {},
   "outputs": [
    {
     "data": {
      "text/plain": [
       "[1997, 2011, 1993, 2020]"
      ]
     },
     "execution_count": 25,
     "metadata": {},
     "output_type": "execute_result"
    }
   ],
   "source": [
    "import datetime as dt\n",
    "Dtl = ['17-12-1997','22-04-2011','01-05-1993','19-06-2020']\n",
    "[dt.datetime.strptime(date_string, \"%d-%m-%Y\").year for date_string in Dtl]"
   ]
  }
 ],
 "metadata": {
  "kernelspec": {
   "display_name": "Python 3 (ipykernel)",
   "language": "python",
   "name": "python3"
  },
  "language_info": {
   "codemirror_mode": {
    "name": "ipython",
    "version": 3
   },
   "file_extension": ".py",
   "mimetype": "text/x-python",
   "name": "python",
   "nbconvert_exporter": "python",
   "pygments_lexer": "ipython3",
   "version": "3.9.12"
  }
 },
 "nbformat": 4,
 "nbformat_minor": 5
}
