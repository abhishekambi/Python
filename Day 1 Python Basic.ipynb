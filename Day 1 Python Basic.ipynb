{
 "cells": [
  {
   "cell_type": "markdown",
   "id": "dfba2e2b",
   "metadata": {},
   "source": [
    "# Agenda\n",
    "* Single and multiple line Comments\n",
    "* Variable Assign\n",
    "* Python number and To check data type \n",
    "* To convert data type\n",
    "* Strings"
   ]
  },
  {
   "cell_type": "markdown",
   "id": "18674bc6",
   "metadata": {},
   "source": [
    "# Python Comments"
   ]
  },
  {
   "cell_type": "code",
   "execution_count": 1,
   "id": "30c82ade",
   "metadata": {},
   "outputs": [
    {
     "name": "stdout",
     "output_type": "stream",
     "text": [
      "Hello, World!\n"
     ]
    }
   ],
   "source": [
    "print (\"Hello, World!\") #see the output"
   ]
  },
  {
   "cell_type": "code",
   "execution_count": 2,
   "id": "5366ad35",
   "metadata": {},
   "outputs": [
    {
     "name": "stdout",
     "output_type": "stream",
     "text": [
      "Hello, Abhi\n"
     ]
    }
   ],
   "source": [
    "#This is a comment\n",
    "#Written in\n",
    "#More than just one line\n",
    "print (\"Hello, Abhi\")  #fgggf"
   ]
  },
  {
   "cell_type": "code",
   "execution_count": 13,
   "id": "95e93283",
   "metadata": {},
   "outputs": [
    {
     "name": "stdout",
     "output_type": "stream",
     "text": [
      "Hello, World!\n"
     ]
    }
   ],
   "source": [
    "\"\"\"\n",
    "This is a comment\n",
    "written in \n",
    "more than just one line\n",
    "\"\"\"\n",
    "print (\"Hello, World!\")"
   ]
  },
  {
   "cell_type": "markdown",
   "id": "f75a2e0c",
   "metadata": {},
   "source": [
    "# Variable Assign\n",
    "="
   ]
  },
  {
   "cell_type": "code",
   "execution_count": 14,
   "id": "de74e057",
   "metadata": {},
   "outputs": [
    {
     "name": "stdout",
     "output_type": "stream",
     "text": [
      "John\n"
     ]
    }
   ],
   "source": [
    "x = 5   #number\n",
    "y = \"John\"  #String variables can be declared either\n",
    "# by using single or double quotes:\n",
    "print (y)"
   ]
  },
  {
   "cell_type": "code",
   "execution_count": 15,
   "id": "f0243507",
   "metadata": {},
   "outputs": [
    {
     "data": {
      "text/plain": [
       "'John'"
      ]
     },
     "execution_count": 15,
     "metadata": {},
     "output_type": "execute_result"
    }
   ],
   "source": [
    "y"
   ]
  },
  {
   "cell_type": "code",
   "execution_count": 17,
   "id": "6ef8b53b",
   "metadata": {},
   "outputs": [],
   "source": [
    "x=3"
   ]
  },
  {
   "cell_type": "code",
   "execution_count": 18,
   "id": "2213eadc",
   "metadata": {},
   "outputs": [
    {
     "data": {
      "text/plain": [
       "3"
      ]
     },
     "execution_count": 18,
     "metadata": {},
     "output_type": "execute_result"
    }
   ],
   "source": [
    "x"
   ]
  },
  {
   "cell_type": "code",
   "execution_count": 19,
   "id": "bbc38d43",
   "metadata": {
    "scrolled": true
   },
   "outputs": [
    {
     "name": "stdout",
     "output_type": "stream",
     "text": [
      "3\n"
     ]
    }
   ],
   "source": [
    "print (x)"
   ]
  },
  {
   "cell_type": "code",
   "execution_count": 21,
   "id": "ba2bd754",
   "metadata": {},
   "outputs": [
    {
     "name": "stdout",
     "output_type": "stream",
     "text": [
      "abc\n"
     ]
    }
   ],
   "source": [
    "x = \"John\"\n",
    "x = 'abc'\n",
    "print (x)"
   ]
  },
  {
   "cell_type": "code",
   "execution_count": 23,
   "id": "dea1aadd",
   "metadata": {},
   "outputs": [
    {
     "data": {
      "text/plain": [
       "[1, 2, 3, 4]"
      ]
     },
     "execution_count": 23,
     "metadata": {},
     "output_type": "execute_result"
    }
   ],
   "source": [
    "[1,2,3,4]"
   ]
  },
  {
   "cell_type": "code",
   "execution_count": 25,
   "id": "f263694f",
   "metadata": {},
   "outputs": [],
   "source": [
    "x=[21,22,23,34]"
   ]
  },
  {
   "cell_type": "code",
   "execution_count": 26,
   "id": "55f8453b",
   "metadata": {},
   "outputs": [
    {
     "data": {
      "text/plain": [
       "[21, 22, 23, 34]"
      ]
     },
     "execution_count": 26,
     "metadata": {},
     "output_type": "execute_result"
    }
   ],
   "source": [
    "x"
   ]
  },
  {
   "cell_type": "code",
   "execution_count": 28,
   "id": "3053a4bc",
   "metadata": {},
   "outputs": [
    {
     "name": "stdout",
     "output_type": "stream",
     "text": [
      "[21, 22, 23, 34]\n"
     ]
    }
   ],
   "source": [
    "print (x)"
   ]
  },
  {
   "cell_type": "markdown",
   "id": "0104e0ee",
   "metadata": {},
   "source": [
    "# Assign Value to Multiple Variables\n",
    "* Python allows you to assign values to multiple variables in one line:"
   ]
  },
  {
   "cell_type": "code",
   "execution_count": 2,
   "id": "6733eb2c",
   "metadata": {},
   "outputs": [
    {
     "name": "stdout",
     "output_type": "stream",
     "text": [
      "Orange\n",
      "Banana\n",
      "Cherry\n"
     ]
    }
   ],
   "source": [
    "x, y, z = \"Orange\",\"Banana\", \"Cherry\"\n",
    "print (x)\n",
    "print (y)\n",
    "print (z)"
   ]
  },
  {
   "cell_type": "code",
   "execution_count": 2,
   "id": "02fdfb8b",
   "metadata": {},
   "outputs": [
    {
     "data": {
      "text/plain": [
       "('Orange', 'Banana', 'Cherry')"
      ]
     },
     "execution_count": 2,
     "metadata": {},
     "output_type": "execute_result"
    }
   ],
   "source": [
    "x,y,z"
   ]
  },
  {
   "cell_type": "code",
   "execution_count": 3,
   "id": "fd7404e3",
   "metadata": {},
   "outputs": [
    {
     "data": {
      "text/plain": [
       "('Orange', 'Cherry')"
      ]
     },
     "execution_count": 3,
     "metadata": {},
     "output_type": "execute_result"
    }
   ],
   "source": [
    "x, z"
   ]
  },
  {
   "cell_type": "markdown",
   "id": "5221ca29",
   "metadata": {},
   "source": [
    "# Python numbers\n",
    "There are three numeric types in Python:\n",
    "* int\n",
    "* float\n",
    "* complex"
   ]
  },
  {
   "cell_type": "code",
   "execution_count": 6,
   "id": "f1dd1ac1",
   "metadata": {},
   "outputs": [],
   "source": [
    "x=10    #int -->Discrete\n",
    "y=2.8   #float ---> continuous\n",
    "z= 1j   #complex  & J-IMAGINARY"
   ]
  },
  {
   "cell_type": "code",
   "execution_count": 4,
   "id": "d3ecc4e7",
   "metadata": {},
   "outputs": [
    {
     "data": {
      "text/plain": [
       "(2.8, 10, 1j)"
      ]
     },
     "execution_count": 4,
     "metadata": {},
     "output_type": "execute_result"
    }
   ],
   "source": [
    "y,x,z"
   ]
  },
  {
   "cell_type": "markdown",
   "id": "b389036b",
   "metadata": {},
   "source": [
    "# To check data type"
   ]
  },
  {
   "cell_type": "code",
   "execution_count": 8,
   "id": "a85b7f1c",
   "metadata": {},
   "outputs": [
    {
     "name": "stdout",
     "output_type": "stream",
     "text": [
      "<class 'int'>\n",
      "<class 'float'>\n",
      "<class 'complex'>\n"
     ]
    }
   ],
   "source": [
    "print (type(x))\n",
    "print (type(y))\n",
    "print (type(z))"
   ]
  },
  {
   "cell_type": "markdown",
   "id": "92fc8804",
   "metadata": {},
   "source": [
    "# Int\n",
    "* Int, or integer, is a whole number, positive or negative, without decimals, of unlimited length."
   ]
  },
  {
   "cell_type": "code",
   "execution_count": 9,
   "id": "46b459af",
   "metadata": {},
   "outputs": [
    {
     "name": "stdout",
     "output_type": "stream",
     "text": [
      "<class 'int'>\n",
      "<class 'int'>\n",
      "<class 'int'>\n"
     ]
    }
   ],
   "source": [
    "x = 1\n",
    "y = 35656222554887711\n",
    "z = -32\n",
    "\n",
    "print (type(x))\n",
    "print (type(y))\n",
    "print (type(z))"
   ]
  },
  {
   "cell_type": "markdown",
   "id": "467b4046",
   "metadata": {},
   "source": [
    "# Float\n",
    "* Float, or \"floating point number\" is a number, positive or negative, containing one or more decimals."
   ]
  },
  {
   "cell_type": "code",
   "execution_count": 10,
   "id": "06d49f1b",
   "metadata": {},
   "outputs": [
    {
     "name": "stdout",
     "output_type": "stream",
     "text": [
      "<class 'float'>\n",
      "<class 'float'>\n",
      "<class 'float'>\n"
     ]
    }
   ],
   "source": [
    "x = 1.10\n",
    "y = 1.0\n",
    "z = -35.59\n",
    "\n",
    "print (type(x))\n",
    "print (type(y))\n",
    "print (type(z))"
   ]
  },
  {
   "cell_type": "markdown",
   "id": "81b754e1",
   "metadata": {},
   "source": [
    "# Float can also be scientific numbers with an \"e\" to in"
   ]
  },
  {
   "cell_type": "code",
   "execution_count": 11,
   "id": "4e253f54",
   "metadata": {},
   "outputs": [
    {
     "name": "stdout",
     "output_type": "stream",
     "text": [
      "350.0\n",
      "120000.0\n",
      "3.5\n",
      "<class 'float'>\n",
      "<class 'float'>\n",
      "<class 'float'>\n"
     ]
    }
   ],
   "source": [
    "x = 35e1\n",
    "z = 35e-1\n",
    "y = 12e4\n",
    "\n",
    "print (x)\n",
    "print (y)\n",
    "print (z)\n",
    "\n",
    "print (type(x))\n",
    "print (type(y))\n",
    "print (type(z))"
   ]
  },
  {
   "cell_type": "markdown",
   "id": "178cf50e",
   "metadata": {},
   "source": [
    "# Complex\n",
    "Complex numbers are written with a \"j\" as the imaginary part:"
   ]
  },
  {
   "cell_type": "code",
   "execution_count": null,
   "id": "2a418127",
   "metadata": {},
   "outputs": [],
   "source": [
    "x = 3+5j\n",
    "y = 5j\n",
    "z = -5j\n",
    "\n",
    "print (type(x))\n",
    "print (type(y))\n",
    "print (type(z))"
   ]
  },
  {
   "cell_type": "markdown",
   "id": "7d3bce3a",
   "metadata": {},
   "source": [
    "# Type Conversion\n",
    "You can convert from one type to another with the int(), float() and complex() methods"
   ]
  },
  {
   "cell_type": "code",
   "execution_count": 13,
   "id": "8c8c6988",
   "metadata": {},
   "outputs": [
    {
     "name": "stdout",
     "output_type": "stream",
     "text": [
      "<class 'int'>\n",
      "<class 'float'>\n",
      "1.0\n"
     ]
    }
   ],
   "source": [
    "x = 1\n",
    "print (type(x))\n",
    "a = float (x)\n",
    "print (type(a))\n",
    "print (a)"
   ]
  },
  {
   "cell_type": "code",
   "execution_count": 14,
   "id": "347fdc40",
   "metadata": {},
   "outputs": [
    {
     "name": "stdout",
     "output_type": "stream",
     "text": [
      "<class 'float'>\n",
      "<class 'int'>\n",
      "10\n"
     ]
    }
   ],
   "source": [
    "x = 10.3  # float\n",
    "print (type(x))\n",
    "a = int(x)\n",
    "print (type(a))\n",
    "print(a)"
   ]
  },
  {
   "cell_type": "code",
   "execution_count": 15,
   "id": "f4be9c99",
   "metadata": {},
   "outputs": [
    {
     "data": {
      "text/plain": [
       "'Hello'"
      ]
     },
     "execution_count": 15,
     "metadata": {},
     "output_type": "execute_result"
    }
   ],
   "source": [
    "a = \"Hello\"\n",
    "a"
   ]
  },
  {
   "cell_type": "markdown",
   "id": "a6f7c6fc",
   "metadata": {},
   "source": [
    "# Arrays"
   ]
  },
  {
   "cell_type": "markdown",
   "id": "360bee00",
   "metadata": {},
   "source": [
    "* Strings are Arrays\n",
    "* Get the character at a position 1 (Remember that the first character has title)"
   ]
  },
  {
   "cell_type": "code",
   "execution_count": 17,
   "id": "e2de9982",
   "metadata": {},
   "outputs": [
    {
     "name": "stdout",
     "output_type": "stream",
     "text": [
      ",\n"
     ]
    }
   ],
   "source": [
    "# 01234567\n",
    "a = \"Hello, World\"\n",
    "print (a[5])"
   ]
  },
  {
   "cell_type": "code",
   "execution_count": 18,
   "id": "cb61001e",
   "metadata": {},
   "outputs": [
    {
     "name": "stdout",
     "output_type": "stream",
     "text": [
      "Hell\n"
     ]
    }
   ],
   "source": [
    "b = \"Hello\"\n",
    "print (b[0:4])  # it stop before the last value of range"
   ]
  },
  {
   "cell_type": "markdown",
   "id": "612e27e2",
   "metadata": {},
   "source": [
    "* The len() method returns the length of a string:"
   ]
  },
  {
   "cell_type": "code",
   "execution_count": 20,
   "id": "7abe786e",
   "metadata": {},
   "outputs": [
    {
     "data": {
      "text/plain": [
       "4"
      ]
     },
     "execution_count": 20,
     "metadata": {},
     "output_type": "execute_result"
    }
   ],
   "source": [
    "a = \"Abhi\"\n",
    "len(a)"
   ]
  },
  {
   "cell_type": "markdown",
   "id": "36994e94",
   "metadata": {},
   "source": [
    "\n",
    "* The lower() method returns the string in lower case:"
   ]
  },
  {
   "cell_type": "code",
   "execution_count": 22,
   "id": "81747a0f",
   "metadata": {},
   "outputs": [
    {
     "name": "stdout",
     "output_type": "stream",
     "text": [
      "hello, world!\n"
     ]
    }
   ],
   "source": [
    "a = \"Hello, World!\"     # data\n",
    "print (a.lower())   ## data.function"
   ]
  },
  {
   "cell_type": "markdown",
   "id": "46ed1759",
   "metadata": {},
   "source": [
    "* The upper() method returns the string in upper case:"
   ]
  },
  {
   "cell_type": "code",
   "execution_count": 24,
   "id": "37b83282",
   "metadata": {},
   "outputs": [
    {
     "name": "stdout",
     "output_type": "stream",
     "text": [
      "HELLO, WORLD!\n"
     ]
    }
   ],
   "source": [
    "a = \"Hello, World!\"\n",
    "print (a.upper())"
   ]
  },
  {
   "cell_type": "markdown",
   "id": "0e9124f4",
   "metadata": {},
   "source": [
    "* The replace () methods replaces a string with another string:"
   ]
  },
  {
   "cell_type": "code",
   "execution_count": 25,
   "id": "3d13a68b",
   "metadata": {},
   "outputs": [
    {
     "name": "stdout",
     "output_type": "stream",
     "text": [
      "Jello, World!\n"
     ]
    }
   ],
   "source": [
    "a = \"Hello, World!\"\n",
    "print (a.replace(\"H\",\"J\"))"
   ]
  },
  {
   "cell_type": "markdown",
   "id": "5f5b4c3a",
   "metadata": {},
   "source": [
    "#  Command-line String Input (Specially for Company use)"
   ]
  },
  {
   "cell_type": "code",
   "execution_count": 5,
   "id": "d9fd836a",
   "metadata": {},
   "outputs": [
    {
     "name": "stdout",
     "output_type": "stream",
     "text": [
      "Abhi\n",
      "Hello Abhi\n"
     ]
    }
   ],
   "source": [
    "x = input()\n",
    "print (\"Hello\", x)   # specially for company use"
   ]
  }
 ],
 "metadata": {
  "kernelspec": {
   "display_name": "Python 3 (ipykernel)",
   "language": "python",
   "name": "python3"
  },
  "language_info": {
   "codemirror_mode": {
    "name": "ipython",
    "version": 3
   },
   "file_extension": ".py",
   "mimetype": "text/x-python",
   "name": "python",
   "nbconvert_exporter": "python",
   "pygments_lexer": "ipython3",
   "version": "3.9.12"
  }
 },
 "nbformat": 4,
 "nbformat_minor": 5
}
