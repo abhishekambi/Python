{
 "cells": [
  {
   "cell_type": "code",
   "execution_count": 1,
   "id": "a96061b5",
   "metadata": {},
   "outputs": [
    {
     "name": "stdout",
     "output_type": "stream",
     "text": [
      "Invalid\n"
     ]
    }
   ],
   "source": [
    "a = 300\n",
    "b = 20\n",
    "if b > a:   # statement = if, condition = b>a\n",
    "    print(\"Valid\")\n",
    "else :\n",
    "    print(\"Invalid\")"
   ]
  },
  {
   "cell_type": "markdown",
   "id": "ff836953",
   "metadata": {},
   "source": [
    "# Indentation\n",
    "Python relies on indentation (Whitespace at the beginning of a line) to define scopr in the code."
   ]
  },
  {
   "cell_type": "code",
   "execution_count": 2,
   "id": "0cc6c473",
   "metadata": {},
   "outputs": [
    {
     "name": "stdout",
     "output_type": "stream",
     "text": [
      "b is greater than a\n"
     ]
    }
   ],
   "source": [
    "a = 33\n",
    "b = 200\n",
    "if b>a:\n",
    "    print (\"b is greater than a\")   # 1 tab == 4 times space"
   ]
  },
  {
   "cell_type": "code",
   "execution_count": 4,
   "id": "73b9b256",
   "metadata": {},
   "outputs": [],
   "source": [
    "a = 45\n",
    "b = 300\n",
    "if b < a:\n",
    "    print(\"Valid\")\n",
    "    # you will get an error"
   ]
  },
  {
   "cell_type": "markdown",
   "id": "644a440d",
   "metadata": {},
   "source": [
    "#  Elif\n",
    "the elif keyword is pythons way of saying \"If the previous condition were not true, then try this condition."
   ]
  },
  {
   "cell_type": "code",
   "execution_count": 5,
   "id": "bffb3e9a",
   "metadata": {},
   "outputs": [
    {
     "name": "stdout",
     "output_type": "stream",
     "text": [
      "Equal\n"
     ]
    }
   ],
   "source": [
    "a = 44\n",
    "b = 44\n",
    "if b > a:\n",
    "    print(\"Greater\")\n",
    "elif  a==b:\n",
    "    print(\"Equal\")"
   ]
  },
  {
   "cell_type": "markdown",
   "id": "ec2bf1a3",
   "metadata": {},
   "source": [
    "* If the first condition is fail then we go to second condition"
   ]
  },
  {
   "cell_type": "code",
   "execution_count": 6,
   "id": "6c23102b",
   "metadata": {},
   "outputs": [
    {
     "name": "stdout",
     "output_type": "stream",
     "text": [
      "Invalid\n"
     ]
    }
   ],
   "source": [
    "a = 555\n",
    "b = 55\n",
    "if b > a:\n",
    "    print(\"Valid\")\n",
    "elif a > b:\n",
    "    print(\"Invalid\")"
   ]
  },
  {
   "cell_type": "markdown",
   "id": "a6a30248",
   "metadata": {},
   "source": [
    "#  Else\n",
    "The else keyword catches anything which isn't caught by the preceding conditions."
   ]
  },
  {
   "cell_type": "code",
   "execution_count": 7,
   "id": "6c93bf7c",
   "metadata": {},
   "outputs": [
    {
     "name": "stdout",
     "output_type": "stream",
     "text": [
      "None\n"
     ]
    }
   ],
   "source": [
    "a = 200\n",
    "b = 20\n",
    "if b > a:   #FAIL\n",
    "    print(\"Greater\")\n",
    "elif  a==b:\n",
    "    print(\"Equal\")\n",
    "else:\n",
    "    print(\"None\")"
   ]
  },
  {
   "cell_type": "code",
   "execution_count": 9,
   "id": "433a9301",
   "metadata": {},
   "outputs": [
    {
     "name": "stdout",
     "output_type": "stream",
     "text": [
      "A grade\n"
     ]
    }
   ],
   "source": [
    "grade = 91\n",
    "if grade >= 90:\n",
    "    print(\"A grade\")\n",
    "elif grade >= 80:\n",
    "    print(\"B grade\")\n",
    "elif grade >= 70:\n",
    "    print (\"C grade\")\n",
    "elif grade >= 60:\n",
    "    print(\"D grade\")\n",
    "else:\n",
    "    print (\"Failing grade\")"
   ]
  },
  {
   "cell_type": "markdown",
   "id": "fbc07870",
   "metadata": {},
   "source": [
    "# You can also have an else without the elif:"
   ]
  },
  {
   "cell_type": "code",
   "execution_count": 10,
   "id": "f9871782",
   "metadata": {},
   "outputs": [
    {
     "name": "stdout",
     "output_type": "stream",
     "text": [
      "b is not greater than a\n"
     ]
    }
   ],
   "source": [
    "a = 2000\n",
    "b = 333\n",
    "if b > a:\n",
    "    print(\"b is greater than a\")\n",
    "else:\n",
    "    print(\"b is not greater than a\")"
   ]
  },
  {
   "cell_type": "markdown",
   "id": "2f9b738b",
   "metadata": {},
   "source": [
    "#  And\n",
    "The and keyword is a logical operator, and is used to combine conditional statements:"
   ]
  },
  {
   "cell_type": "code",
   "execution_count": 11,
   "id": "feaf1372",
   "metadata": {},
   "outputs": [
    {
     "name": "stdout",
     "output_type": "stream",
     "text": [
      "Invalid\n"
     ]
    }
   ],
   "source": [
    "a = 200\n",
    "b = 300\n",
    "c = 500\n",
    "if a > b and c > a:   # condition1 = True & # condition2 = True then only Print\n",
    "    print(\"Both conditions are True\")\n",
    "else:\n",
    "    print(\"Invalid\")"
   ]
  },
  {
   "cell_type": "markdown",
   "id": "85531e84",
   "metadata": {},
   "source": [
    "# Or\n",
    "The or keyword is a logical operator and is used to combine conditional statements"
   ]
  },
  {
   "cell_type": "code",
   "execution_count": 12,
   "id": "291f8242",
   "metadata": {},
   "outputs": [
    {
     "name": "stdout",
     "output_type": "stream",
     "text": [
      "Invalid\n"
     ]
    }
   ],
   "source": [
    "a = 200\n",
    "b = 330\n",
    "c = 500\n",
    "if a > b or a > c: # condition1 = True & # condition2 = False any one is true the \n",
    "    print(\"At least one of the conditions is True\")\n",
    "else:\n",
    "    print(\"Invalid\")"
   ]
  },
  {
   "cell_type": "markdown",
   "id": "b5ab28d6",
   "metadata": {},
   "source": [
    "# Nested If \n",
    "You can have if statements inside if statements, this is called nested if statements."
   ]
  },
  {
   "cell_type": "code",
   "execution_count": 13,
   "id": "de6a520f",
   "metadata": {},
   "outputs": [
    {
     "name": "stdout",
     "output_type": "stream",
     "text": [
      "Zero\n"
     ]
    }
   ],
   "source": [
    "num = 6   #3, 6, 11\n",
    "if num >= 5:  # pass    #outer if statement\n",
    "    if num < 9:   #Fail   #Inner = nested if statement\n",
    "        print(\"Zero\")   # if both condition is met\n",
    "    else:\n",
    "        print(\"Positive number\")  # if second nested condition is not met\n",
    "else:                              # outer else statement\n",
    "    print(\"Negative number\")   # if first the condition not met"
   ]
  },
  {
   "cell_type": "code",
   "execution_count": 14,
   "id": "90e7787f",
   "metadata": {},
   "outputs": [
    {
     "name": "stdout",
     "output_type": "stream",
     "text": [
      "Passing grade of:\n",
      "B\n"
     ]
    }
   ],
   "source": [
    "grade = 80  ##60 and 66\n",
    "if grade >= 65:   #outer if\n",
    "    print(\"Passing grade of:\")\n",
    "    if grade >= 90:   #first nested if\n",
    "        print(\"A\")\n",
    "        \n",
    "    elif grade >= 80: # first nested elif\n",
    "        print(\"B\")\n",
    "    \n",
    "    elif grade >= 70:  # Second nested elif\n",
    "        print(\"C\")\n",
    "        \n",
    "    elif grade >=65:   # third nested elif\n",
    "        print (\"D\")\n",
    "else:   #outer else\n",
    "    print(\"Failing grade\")"
   ]
  },
  {
   "cell_type": "code",
   "execution_count": 15,
   "id": "48286858",
   "metadata": {},
   "outputs": [
    {
     "name": "stdout",
     "output_type": "stream",
     "text": [
      "Expression value is less than 200\n",
      "Which is 150\n"
     ]
    }
   ],
   "source": [
    "var = 150 # 45,201\\\n",
    "if var < 200:   #Fail outer\n",
    "    print(\"Expression value is less than 200\")\n",
    "    if var == 150:   # fail inner\n",
    "        print(\"Which is 150\")\n",
    "    elif var == 100:   # pass\n",
    "        print(\"Which is 100\")\n",
    "    elif var == 50:  \n",
    "        print (\"Which is 50\")\n",
    "    elif var < 50:\n",
    "        print(\"Expression value is less than 50\")\n",
    "else:\n",
    "    print(\"None\")"
   ]
  }
 ],
 "metadata": {
  "kernelspec": {
   "display_name": "Python 3 (ipykernel)",
   "language": "python",
   "name": "python3"
  },
  "language_info": {
   "codemirror_mode": {
    "name": "ipython",
    "version": 3
   },
   "file_extension": ".py",
   "mimetype": "text/x-python",
   "name": "python",
   "nbconvert_exporter": "python",
   "pygments_lexer": "ipython3",
   "version": "3.9.12"
  }
 },
 "nbformat": 4,
 "nbformat_minor": 5
}
