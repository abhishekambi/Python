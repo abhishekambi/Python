{
 "cells": [
  {
   "cell_type": "markdown",
   "id": "24f764f0",
   "metadata": {},
   "source": [
    "# ---1---"
   ]
  },
  {
   "cell_type": "code",
   "execution_count": 1,
   "id": "e0709894",
   "metadata": {},
   "outputs": [],
   "source": [
    "import numpy as np"
   ]
  },
  {
   "cell_type": "code",
   "execution_count": 2,
   "id": "76cf8095",
   "metadata": {},
   "outputs": [
    {
     "name": "stdout",
     "output_type": "stream",
     "text": [
      "Enter any number: 21\n",
      "21 is not a prime number\n"
     ]
    }
   ],
   "source": [
    "number = int(input(\"Enter any number: \"))\n",
    "if number > 1:\n",
    "    for i in range(2, number):\n",
    "        if (number % i) == 0:\n",
    "            print(number, \"is not a prime number\")\n",
    "            break\n",
    "    else:\n",
    "        print(number, \"is a prime number\")\n",
    "else:\n",
    "    print(number, \"is not a prime number\")"
   ]
  },
  {
   "cell_type": "markdown",
   "id": "8e9ad74c",
   "metadata": {},
   "source": [
    "# ---2---"
   ]
  },
  {
   "cell_type": "code",
   "execution_count": 3,
   "id": "9483ded3",
   "metadata": {},
   "outputs": [],
   "source": [
    "import pandas as pd"
   ]
  },
  {
   "cell_type": "code",
   "execution_count": 4,
   "id": "24305fe7",
   "metadata": {},
   "outputs": [
    {
     "name": "stdout",
     "output_type": "stream",
     "text": [
      "dlroW olleH\n"
     ]
    }
   ],
   "source": [
    "r = \"Hello World\"[::-1]\n",
    "print(r)"
   ]
  },
  {
   "cell_type": "markdown",
   "id": "d5935d22",
   "metadata": {},
   "source": [
    "# ---3---"
   ]
  },
  {
   "cell_type": "code",
   "execution_count": 5,
   "id": "0cadd740",
   "metadata": {},
   "outputs": [
    {
     "data": {
      "text/plain": [
       "['Monday', 'tuesday', 'friday', 'Sunday', 'Saturday']"
      ]
     },
     "execution_count": 5,
     "metadata": {},
     "output_type": "execute_result"
    }
   ],
   "source": [
    "Days = ['Monday', 'tuesday','friday', 'Sunday', 'Saturday']\n",
    "Days"
   ]
  },
  {
   "cell_type": "code",
   "execution_count": 6,
   "id": "cf974dbd",
   "metadata": {
    "scrolled": true
   },
   "outputs": [
    {
     "name": "stdout",
     "output_type": "stream",
     "text": [
      "Monday\n",
      "Sunday\n",
      "Saturday\n"
     ]
    }
   ],
   "source": [
    "for word in Days:\n",
    "    if word[0].isupper():\n",
    "        print (word)"
   ]
  },
  {
   "cell_type": "markdown",
   "id": "260fb550",
   "metadata": {},
   "source": [
    "# ---4---"
   ]
  },
  {
   "cell_type": "code",
   "execution_count": 7,
   "id": "0df740f9",
   "metadata": {},
   "outputs": [
    {
     "data": {
      "text/plain": [
       "['15-06-1997', '15-06-2011', '15-06-1993', '15-06-2020']"
      ]
     },
     "execution_count": 7,
     "metadata": {},
     "output_type": "execute_result"
    }
   ],
   "source": [
    "Batch = ['15-06-1997','15-06-2011','15-06-1993','15-06-2020']\n",
    "Batch"
   ]
  },
  {
   "cell_type": "code",
   "execution_count": 8,
   "id": "7cba2ce8",
   "metadata": {},
   "outputs": [
    {
     "data": {
      "text/plain": [
       "[1997, 2011, 1993, 2020]"
      ]
     },
     "execution_count": 8,
     "metadata": {},
     "output_type": "execute_result"
    }
   ],
   "source": [
    "import datetime as dt\n",
    "Batch = ['15-06-1997','15-06-2011','15-06-1993','15-06-2020']\n",
    "[dt.datetime.strptime(date_string, \"%d-%m-%Y\").year for date_string in Batch]"
   ]
  },
  {
   "cell_type": "markdown",
   "id": "6cd4505d",
   "metadata": {},
   "source": [
    "# ---5---"
   ]
  },
  {
   "cell_type": "code",
   "execution_count": 9,
   "id": "fb34bc66",
   "metadata": {},
   "outputs": [
    {
     "data": {
      "text/plain": [
       "{'Data Science': 1, 'Machine Learning': 2, 'SQL': 3, 'Big Data': 4}"
      ]
     },
     "execution_count": 9,
     "metadata": {},
     "output_type": "execute_result"
    }
   ],
   "source": [
    "Module = {'Data Science':1,'Machine Learning':2, 'SQL':3, 'Big Data':4}\n",
    "Module"
   ]
  },
  {
   "cell_type": "code",
   "execution_count": 10,
   "id": "6862da1f",
   "metadata": {},
   "outputs": [
    {
     "name": "stdout",
     "output_type": "stream",
     "text": [
      "{1: ['Data Science'], 2: ['Machine Learning'], 3: ['SQL'], 4: ['Big Data']}\n"
     ]
    }
   ],
   "source": [
    "Module = {'Data Science':1,'Machine Learning':2, 'SQL':3, 'Big Data':4}\n",
    "Module2 = {}\n",
    " \n",
    "for x, y in Module.items():\n",
    "    Module2[y] = Module2.get(y, []) + [x]\n",
    "print(Module2)"
   ]
  },
  {
   "cell_type": "markdown",
   "id": "80c8a52c",
   "metadata": {},
   "source": [
    "# ---6---"
   ]
  },
  {
   "cell_type": "code",
   "execution_count": 11,
   "id": "59597366",
   "metadata": {},
   "outputs": [
    {
     "data": {
      "text/plain": [
       "[5, 2, 1, 4, 6]"
      ]
     },
     "execution_count": 11,
     "metadata": {},
     "output_type": "execute_result"
    }
   ],
   "source": [
    "A = [5,2,1,4,6]\n",
    "A"
   ]
  },
  {
   "cell_type": "code",
   "execution_count": 12,
   "id": "89648c62",
   "metadata": {},
   "outputs": [
    {
     "ename": "NameError",
     "evalue": "name 'reduce' is not defined",
     "output_type": "error",
     "traceback": [
      "\u001b[1;31m---------------------------------------------------------------------------\u001b[0m",
      "\u001b[1;31mNameError\u001b[0m                                 Traceback (most recent call last)",
      "Input \u001b[1;32mIn [12]\u001b[0m, in \u001b[0;36m<cell line: 3>\u001b[1;34m()\u001b[0m\n\u001b[0;32m      1\u001b[0m A \u001b[38;5;241m=\u001b[39m [\u001b[38;5;241m5\u001b[39m,\u001b[38;5;241m2\u001b[39m,\u001b[38;5;241m1\u001b[39m,\u001b[38;5;241m4\u001b[39m,\u001b[38;5;241m6\u001b[39m]\n\u001b[0;32m      2\u001b[0m A_len\u001b[38;5;241m=\u001b[39m \u001b[38;5;28mlen\u001b[39m(A)\n\u001b[1;32m----> 3\u001b[0m A_avg \u001b[38;5;241m=\u001b[39m \u001b[43mreduce\u001b[49m(\u001b[38;5;28;01mlambda\u001b[39;00m x, y: x \u001b[38;5;241m+\u001b[39m y, A) \u001b[38;5;241m/\u001b[39mA_len \n\u001b[0;32m      4\u001b[0m \u001b[38;5;28mprint\u001b[39m(\u001b[38;5;124m\"\u001b[39m\u001b[38;5;124mAverage value of the list:\u001b[39m\u001b[38;5;130;01m\\n\u001b[39;00m\u001b[38;5;124m\"\u001b[39m) \n\u001b[0;32m      5\u001b[0m \u001b[38;5;28mprint\u001b[39m(A_avg)\n",
      "\u001b[1;31mNameError\u001b[0m: name 'reduce' is not defined"
     ]
    }
   ],
   "source": [
    "A = [5,2,1,4,6]\n",
    "A_len= len(A)\n",
    "A_avg = reduce(lambda x, y: x + y, A) /A_len \n",
    "print(\"Average value of the list:\\n\") \n",
    "print(A_avg) "
   ]
  },
  {
   "cell_type": "markdown",
   "id": "177578f8",
   "metadata": {},
   "source": [
    "# ---7---"
   ]
  },
  {
   "cell_type": "markdown",
   "id": "aae243bc",
   "metadata": {},
   "source": [
    "# ---8---"
   ]
  },
  {
   "cell_type": "code",
   "execution_count": null,
   "id": "fcb0f95f",
   "metadata": {},
   "outputs": [],
   "source": [
    "number = int(input(\"Enter any number: \"))\n",
    "def in_range(n):\n",
    "    if n in range(1000,10000):\n",
    "        print( \" %s is in the range\" %str(n))\n",
    "    else :\n",
    "        print(\"The number is not in the given range.\")\n",
    "in_range(number)"
   ]
  },
  {
   "cell_type": "markdown",
   "id": "908f522b",
   "metadata": {},
   "source": [
    "# ---9---"
   ]
  },
  {
   "cell_type": "markdown",
   "id": "f3ddd216",
   "metadata": {},
   "source": [
    "# ---10---"
   ]
  },
  {
   "cell_type": "code",
   "execution_count": null,
   "id": "f7f6f3ff",
   "metadata": {},
   "outputs": [],
   "source": [
    "score = [10, 32, 23, 14, 25]\n",
    "score"
   ]
  },
  {
   "cell_type": "code",
   "execution_count": null,
   "id": "1da381a5",
   "metadata": {},
   "outputs": [],
   "source": [
    "total = sum(score)\n",
    "total"
   ]
  },
  {
   "cell_type": "markdown",
   "id": "ed723bfc",
   "metadata": {},
   "source": [
    "# ---11---"
   ]
  },
  {
   "cell_type": "code",
   "execution_count": null,
   "id": "f36a73a2",
   "metadata": {},
   "outputs": [],
   "source": [
    "Score = np.array([[210, 402, 383], [140, 375, 106], [140, 125, 217], [292, 240, 295]])\n",
    "Score"
   ]
  },
  {
   "cell_type": "code",
   "execution_count": null,
   "id": "717bb8b1",
   "metadata": {},
   "outputs": [],
   "source": [
    "S = np.min(Score)\n",
    "S"
   ]
  },
  {
   "cell_type": "markdown",
   "id": "a2412a27",
   "metadata": {},
   "source": [
    "# ---12---"
   ]
  },
  {
   "cell_type": "code",
   "execution_count": null,
   "id": "5285c892",
   "metadata": {},
   "outputs": [],
   "source": [
    "list = np.array([0, 21, 32, 13, 44, 45, 26, 28, 38, 34, 65, 48, 76])\n",
    "list"
   ]
  }
 ],
 "metadata": {
  "kernelspec": {
   "display_name": "Python 3 (ipykernel)",
   "language": "python",
   "name": "python3"
  },
  "language_info": {
   "codemirror_mode": {
    "name": "ipython",
    "version": 3
   },
   "file_extension": ".py",
   "mimetype": "text/x-python",
   "name": "python",
   "nbconvert_exporter": "python",
   "pygments_lexer": "ipython3",
   "version": "3.9.12"
  }
 },
 "nbformat": 4,
 "nbformat_minor": 5
}
